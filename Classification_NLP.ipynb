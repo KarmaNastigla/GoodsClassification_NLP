{
 "cells": [
  {
   "cell_type": "markdown",
   "id": "001edeb3",
   "metadata": {
    "papermill": {
     "duration": 0.004028,
     "end_time": "2025-05-31T16:10:14.774882",
     "exception": false,
     "start_time": "2025-05-31T16:10:14.770854",
     "status": "completed"
    },
    "tags": []
   },
   "source": [
    "Задание. Поисковая система — ключевой компонент качественного пользовательского опыта в e-commerce. Чтобы находить нужные товары среди десятков тысяч позиций, важно точно понимать намерение пользователя.\n",
    "\n",
    "В этом соревновании вам предстоит решить задачу классификации: определить, к какой категории товаров относится поисковой запрос, сделанный на сайте 21vek.by."
   ]
  },
  {
   "cell_type": "code",
   "execution_count": 1,
   "id": "644969ba",
   "metadata": {
    "execution": {
     "iopub.execute_input": "2025-05-31T16:10:14.783152Z",
     "iopub.status.busy": "2025-05-31T16:10:14.782907Z",
     "iopub.status.idle": "2025-05-31T16:10:16.319817Z",
     "shell.execute_reply": "2025-05-31T16:10:16.319250Z"
    },
    "papermill": {
     "duration": 1.542307,
     "end_time": "2025-05-31T16:10:16.321144",
     "exception": false,
     "start_time": "2025-05-31T16:10:14.778837",
     "status": "completed"
    },
    "tags": []
   },
   "outputs": [],
   "source": [
    "# Импорт библиотеки для чтения файлов\n",
    "import pandas as pd"
   ]
  },
  {
   "cell_type": "markdown",
   "id": "24f2de12",
   "metadata": {
    "papermill": {
     "duration": 0.002916,
     "end_time": "2025-05-31T16:10:16.327552",
     "exception": false,
     "start_time": "2025-05-31T16:10:16.324636",
     "status": "completed"
    },
    "tags": []
   },
   "source": [
    "Файлы\n",
    "1. categories.csv – справочник с категориями товаров.\n",
    "2. sample_submission.csv – пример файла с правильным форматом для отправки результатов.\n",
    "3. train.csv – обучающая выборка, содержащая пользовательские запросы и соответствующие категории товаров.\n",
    "4. test.csv – тестовая выборка без указания категории; именно на ней оцениваются предсказания."
   ]
  },
  {
   "cell_type": "code",
   "execution_count": 2,
   "id": "9a2f0ce9",
   "metadata": {
    "execution": {
     "iopub.execute_input": "2025-05-31T16:10:16.334457Z",
     "iopub.status.busy": "2025-05-31T16:10:16.334170Z",
     "iopub.status.idle": "2025-05-31T16:10:16.392490Z",
     "shell.execute_reply": "2025-05-31T16:10:16.391743Z"
    },
    "papermill": {
     "duration": 0.06323,
     "end_time": "2025-05-31T16:10:16.393803",
     "exception": false,
     "start_time": "2025-05-31T16:10:16.330573",
     "status": "completed"
    },
    "tags": []
   },
   "outputs": [],
   "source": [
    "# Чтение приложенных файлов\n",
    "categories = pd.read_csv('/kaggle/input/21vek-query-classification/categories.csv')\n",
    "sample_submission = pd.read_csv('/kaggle/input/21vek-query-classification/sample_submission.csv')\n",
    "train = pd.read_csv('/kaggle/input/21vek-query-classification/train.csv')\n",
    "test = pd.read_csv('/kaggle/input/21vek-query-classification/test.csv')"
   ]
  },
  {
   "cell_type": "markdown",
   "id": "ab4816c1",
   "metadata": {
    "papermill": {
     "duration": 0.002939,
     "end_time": "2025-05-31T16:10:16.400125",
     "exception": false,
     "start_time": "2025-05-31T16:10:16.397186",
     "status": "completed"
    },
    "tags": []
   },
   "source": [
    "Столбцы\n",
    "1. ID – уникальный идентификатор строки.\n",
    "2. Query – поисковый запрос пользователя на сайте 21vek.by.\n",
    "3. CategoryID – идентификатор товарной категории (целевая переменная, только в train).\n",
    "4. CategoryName – название категории (только в справочнике categories.csv)."
   ]
  },
  {
   "cell_type": "code",
   "execution_count": 3,
   "id": "b4785a1f",
   "metadata": {
    "execution": {
     "iopub.execute_input": "2025-05-31T16:10:16.407046Z",
     "iopub.status.busy": "2025-05-31T16:10:16.406822Z",
     "iopub.status.idle": "2025-05-31T16:10:16.474841Z",
     "shell.execute_reply": "2025-05-31T16:10:16.474111Z"
    },
    "papermill": {
     "duration": 0.073186,
     "end_time": "2025-05-31T16:10:16.476377",
     "exception": false,
     "start_time": "2025-05-31T16:10:16.403191",
     "status": "completed"
    },
    "tags": []
   },
   "outputs": [
    {
     "name": "stdout",
     "output_type": "stream",
     "text": [
      "======================================== categories ========================================\n",
      "\n",
      "    CategoryID                        CategoryName\n",
      "0            0                             Монитор\n",
      "1            1                Мультимедиа акустика\n",
      "2            2                Портативная акустика\n",
      "3            3  Чехол/защитное стекло для телефона\n",
      "4            4                   Мобильный телефон\n",
      "..         ...                                 ...\n",
      "62          62                 Виниловая пластинка\n",
      "63          63                          ТВ-антенна\n",
      "64          64  Оборудование для предметной съемки\n",
      "65          65              Аксессуар для ноутбука\n",
      "66          66                     Металлодетектор\n",
      "\n",
      "[67 rows x 2 columns]\n",
      "<class 'pandas.core.frame.DataFrame'>\n",
      "RangeIndex: 67 entries, 0 to 66\n",
      "Data columns (total 2 columns):\n",
      " #   Column        Non-Null Count  Dtype \n",
      "---  ------        --------------  ----- \n",
      " 0   CategoryID    67 non-null     int64 \n",
      " 1   CategoryName  67 non-null     object\n",
      "dtypes: int64(1), object(1)\n",
      "memory usage: 1.2+ KB\n",
      "None\n",
      "\n",
      "       CategoryID\n",
      "count   67.000000\n",
      "mean    33.000000\n",
      "std     19.485037\n",
      "min      0.000000\n",
      "25%     16.500000\n",
      "50%     33.000000\n",
      "75%     49.500000\n",
      "max     66.000000\n",
      "======================================== sample_submission ========================================\n",
      "\n",
      "         ID  CategoryID\n",
      "0         0           3\n",
      "1        15           3\n",
      "2        21           3\n",
      "3        22           3\n",
      "4        24           3\n",
      "...     ...         ...\n",
      "3894  15452           3\n",
      "3895  15453           3\n",
      "3896  15454           3\n",
      "3897  15455           3\n",
      "3898  15456           3\n",
      "\n",
      "[3899 rows x 2 columns]\n",
      "<class 'pandas.core.frame.DataFrame'>\n",
      "RangeIndex: 3899 entries, 0 to 3898\n",
      "Data columns (total 2 columns):\n",
      " #   Column      Non-Null Count  Dtype\n",
      "---  ------      --------------  -----\n",
      " 0   ID          3899 non-null   int64\n",
      " 1   CategoryID  3899 non-null   int64\n",
      "dtypes: int64(2)\n",
      "memory usage: 61.1 KB\n",
      "None\n",
      "\n",
      "                ID  CategoryID\n",
      "count   3899.00000      3899.0\n",
      "mean    9759.91921         3.0\n",
      "std     4877.10741         0.0\n",
      "min        0.00000         3.0\n",
      "25%     5591.00000         3.0\n",
      "50%    10638.00000         3.0\n",
      "75%    14481.50000         3.0\n",
      "max    15456.00000         3.0\n",
      "======================================== train ========================================\n",
      "\n",
      "          ID  CategoryID                                              Query\n",
      "0          1           1                                            edifier\n",
      "1          2           2                  умная колонка яндекс станция лайт\n",
      "2          3           3                                чехол iphone 14 pro\n",
      "3          4           4                                                zte\n",
      "4          5           5            ноутбук huawei matebook b3-520 53012kfg\n",
      "...      ...         ...                                                ...\n",
      "11553  14118           6    ssd диск samsung 980 pro nvme 2tb (mz-v8p2t0bw)\n",
      "11554  14119          42              usb-хаб ugreen cr106 / 20277 (черный)\n",
      "11555  14120           5  ноутбук huawei matebook d14 nbd-wdi9 (космичес...\n",
      "11556  14121          10                   телевизор samsung ue65au7002uxru\n",
      "11557  14122           4                                         honor x 9b\n",
      "\n",
      "[11558 rows x 3 columns]\n",
      "<class 'pandas.core.frame.DataFrame'>\n",
      "RangeIndex: 11558 entries, 0 to 11557\n",
      "Data columns (total 3 columns):\n",
      " #   Column      Non-Null Count  Dtype \n",
      "---  ------      --------------  ----- \n",
      " 0   ID          11558 non-null  int64 \n",
      " 1   CategoryID  11558 non-null  int64 \n",
      " 2   Query       11558 non-null  object\n",
      "dtypes: int64(2), object(1)\n",
      "memory usage: 271.0+ KB\n",
      "None\n",
      "\n",
      "                 ID    CategoryID\n",
      "count  11558.000000  11558.000000\n",
      "mean    7042.548105     15.353002\n",
      "std     4091.839862     13.440751\n",
      "min        1.000000      0.000000\n",
      "25%     3475.250000      4.000000\n",
      "50%     7041.500000     10.000000\n",
      "75%    10610.750000     22.000000\n",
      "max    14122.000000     66.000000\n",
      "======================================== test ========================================\n",
      "\n",
      "         ID                                              Query\n",
      "0         0         xiaomi 2k gaming monitor g27qi p27qca-rggl\n",
      "1        15  смартфон xiaomi redmi note 14 8gb/256gb (полун...\n",
      "2        21                                           16 айфон\n",
      "3        22                                       cmf buds pro\n",
      "4        24                 защитное стекло samsung galaxy a25\n",
      "...     ...                                                ...\n",
      "3894  15452                                    lenovo legion 5\n",
      "3895  15453                                      playstation 5\n",
      "3896  15454                               usb flash накопители\n",
      "3897  15455                                             xiaomi\n",
      "3898  15456                                       блок питания\n",
      "\n",
      "[3899 rows x 2 columns]\n",
      "<class 'pandas.core.frame.DataFrame'>\n",
      "RangeIndex: 3899 entries, 0 to 3898\n",
      "Data columns (total 2 columns):\n",
      " #   Column  Non-Null Count  Dtype \n",
      "---  ------  --------------  ----- \n",
      " 0   ID      3899 non-null   int64 \n",
      " 1   Query   3899 non-null   object\n",
      "dtypes: int64(1), object(1)\n",
      "memory usage: 61.1+ KB\n",
      "None\n",
      "\n",
      "                ID\n",
      "count   3899.00000\n",
      "mean    9759.91921\n",
      "std     4877.10741\n",
      "min        0.00000\n",
      "25%     5591.00000\n",
      "50%    10638.00000\n",
      "75%    14481.50000\n",
      "max    15456.00000\n"
     ]
    }
   ],
   "source": [
    "# Выведем данные, информацию и статистические данные о прочитанных файлах\n",
    "print(f'{\"=\" *40} categories {\"=\" *40}')\n",
    "print(f'\\n{categories}')\n",
    "print(f'{categories.info()}')\n",
    "print(f'\\n{categories.describe()}')\n",
    "print(f'{\"=\" *40} sample_submission {\"=\" *40}')\n",
    "print(f'\\n{sample_submission}')\n",
    "print(f'{sample_submission.info()}')\n",
    "print(f'\\n{sample_submission.describe()}')\n",
    "print(f'{\"=\" *40} train {\"=\" *40}')\n",
    "print(f'\\n{train}')\n",
    "print(f'{train.info()}')\n",
    "print(f'\\n{train.describe()}')\n",
    "print(f'{\"=\" *40} test {\"=\" *40}')\n",
    "print(f'\\n{test}')\n",
    "print(f'{test.info()}')\n",
    "print(f'\\n{test.describe()}')"
   ]
  },
  {
   "cell_type": "markdown",
   "id": "ba2ebf72",
   "metadata": {
    "papermill": {
     "duration": 0.003364,
     "end_time": "2025-05-31T16:10:16.483854",
     "exception": false,
     "start_time": "2025-05-31T16:10:16.480490",
     "status": "completed"
    },
    "tags": []
   },
   "source": [
    "В резульатате выведенной общей информации о данных: размер, типы данных, наличие пропусков, отсутствии избыточных категорий. Можно отметить об отсутствии необходимости их предобработки. Обрабатывать текст в признаке Query будем позже."
   ]
  },
  {
   "cell_type": "code",
   "execution_count": 4,
   "id": "289d5a65",
   "metadata": {
    "execution": {
     "iopub.execute_input": "2025-05-31T16:10:16.492183Z",
     "iopub.status.busy": "2025-05-31T16:10:16.491763Z",
     "iopub.status.idle": "2025-05-31T16:10:17.209900Z",
     "shell.execute_reply": "2025-05-31T16:10:17.209185Z"
    },
    "papermill": {
     "duration": 0.72622,
     "end_time": "2025-05-31T16:10:17.213664",
     "exception": false,
     "start_time": "2025-05-31T16:10:16.487444",
     "status": "completed"
    },
    "tags": []
   },
   "outputs": [
    {
     "data": {
      "image/png": "[encoded data removed]",
      "text/plain": [
       "<Figure size 1000x500 with 1 Axes>"
      ]
     },
     "metadata": {},
     "output_type": "display_data"
    }
   ],
   "source": [
    "# Объединение файлов по признаку CategoryID\n",
    "train_df = train.merge(categories, on='CategoryID', how='left')\n",
    "\n",
    "# Библиотека для визуализации\n",
    "import matplotlib.pyplot as plt\n",
    "\n",
    "# Выведем количество запросов для каждой категории\n",
    "fig, ax = plt.subplots(1, 1, figsize=(10, 5))\n",
    "train_df.groupby('CategoryName').Query.count().sort_values().plot.bar(x='CategoryName', y='Query')\n",
    "plt.xticks(rotation=90)\n",
    "plt.show()"
   ]
  },
  {
   "cell_type": "markdown",
   "id": "f1fb7ece",
   "metadata": {
    "papermill": {
     "duration": 0.005867,
     "end_time": "2025-05-31T16:10:17.226066",
     "exception": false,
     "start_time": "2025-05-31T16:10:17.220199",
     "status": "completed"
    },
    "tags": []
   },
   "source": [
    "Как мы видем, мы имеем 67 категорий товров, и явный дисбаланс по колличеству товара. "
   ]
  },
  {
   "cell_type": "code",
   "execution_count": 5,
   "id": "95f7bc76",
   "metadata": {
    "execution": {
     "iopub.execute_input": "2025-05-31T16:10:17.239077Z",
     "iopub.status.busy": "2025-05-31T16:10:17.238879Z",
     "iopub.status.idle": "2025-05-31T16:10:22.019737Z",
     "shell.execute_reply": "2025-05-31T16:10:22.018933Z"
    },
    "papermill": {
     "duration": 4.789269,
     "end_time": "2025-05-31T16:10:22.021120",
     "exception": false,
     "start_time": "2025-05-31T16:10:17.231851",
     "status": "completed"
    },
    "tags": []
   },
   "outputs": [
    {
     "name": "stdout",
     "output_type": "stream",
     "text": [
      "Collecting pymorphy3\r\n",
      "  Downloading pymorphy3-2.0.3-py3-none-any.whl.metadata (1.9 kB)\r\n",
      "Collecting dawg2-python>=0.8.0 (from pymorphy3)\r\n",
      "  Downloading dawg2_python-0.9.0-py3-none-any.whl.metadata (7.5 kB)\r\n",
      "Collecting pymorphy3-dicts-ru (from pymorphy3)\r\n",
      "  Downloading pymorphy3_dicts_ru-2.4.417150.4580142-py2.py3-none-any.whl.metadata (2.0 kB)\r\n",
      "Downloading pymorphy3-2.0.3-py3-none-any.whl (53 kB)\r\n",
      "\u001b[2K   \u001b[90m━━━━━━━━━━━━━━━━━━━━━━━━━━━━━━━━━━━━━━━━\u001b[0m \u001b[32m53.8/53.8 kB\u001b[0m \u001b[31m1.9 MB/s\u001b[0m eta \u001b[36m0:00:00\u001b[0m\r\n",
      "\u001b[?25hDownloading dawg2_python-0.9.0-py3-none-any.whl (9.3 kB)\r\n",
      "Downloading pymorphy3_dicts_ru-2.4.417150.4580142-py2.py3-none-any.whl (8.4 MB)\r\n",
      "\u001b[2K   \u001b[90m━━━━━━━━━━━━━━━━━━━━━━━━━━━━━━━━━━━━━━━━\u001b[0m \u001b[32m8.4/8.4 MB\u001b[0m \u001b[31m74.1 MB/s\u001b[0m eta \u001b[36m0:00:00\u001b[0m\r\n",
      "\u001b[?25hInstalling collected packages: pymorphy3-dicts-ru, dawg2-python, pymorphy3\r\n",
      "Successfully installed dawg2-python-0.9.0 pymorphy3-2.0.3 pymorphy3-dicts-ru-2.4.417150.4580142\r\n"
     ]
    }
   ],
   "source": [
    "!pip install pymorphy3"
   ]
  },
  {
   "cell_type": "markdown",
   "id": "6887c8da",
   "metadata": {
    "papermill": {
     "duration": 0.00614,
     "end_time": "2025-05-31T16:10:22.034117",
     "exception": false,
     "start_time": "2025-05-31T16:10:22.027977",
     "status": "completed"
    },
    "tags": []
   },
   "source": [
    "Для решения задачи используем комбинацию методов NLP и машинного обучения, для классификации текстовых запросов."
   ]
  },
  {
   "cell_type": "code",
   "execution_count": 6,
   "id": "301cb9ff",
   "metadata": {
    "execution": {
     "iopub.execute_input": "2025-05-31T16:10:22.048174Z",
     "iopub.status.busy": "2025-05-31T16:10:22.047959Z",
     "iopub.status.idle": "2025-05-31T16:10:28.872650Z",
     "shell.execute_reply": "2025-05-31T16:10:28.871877Z"
    },
    "papermill": {
     "duration": 6.833438,
     "end_time": "2025-05-31T16:10:28.873866",
     "exception": false,
     "start_time": "2025-05-31T16:10:22.040428",
     "status": "completed"
    },
    "tags": []
   },
   "outputs": [
    {
     "name": "stdout",
     "output_type": "stream",
     "text": [
      "Validation F1-score: 0.8255586885315349\n"
     ]
    }
   ],
   "source": [
    "# Импорт необходимых библиотек\n",
    "import pandas as pd\n",
    "from sklearn.feature_extraction.text import TfidfVectorizer  # Для преобразования текста в числовые признаки\n",
    "from sklearn.linear_model import LogisticRegression          # Модель классификации\n",
    "from sklearn.pipeline import Pipeline                        # Для создания последовательности преобразований\n",
    "from sklearn.model_selection import train_test_split         # Для разделения данных\n",
    "from sklearn.metrics import f1_score                         # Метрика оценки качества\n",
    "import re                                                    # Для работы с регулярными выражениями\n",
    "from nltk.corpus import stopwords                            # Список стоп-слов\n",
    "import pymorphy3                                             # Для лемматизации русских слов\n",
    "import nltk                                                  # NLP библиотека\n",
    "\n",
    "# Инициализация инструментов для обработки текста\n",
    "morph = pymorphy3.MorphAnalyzer()                            # Создаем анализатор для русской морфологии\n",
    "stop_words = set(stopwords.words('russian'))                 # Загружаем список русских стоп-слов\n",
    "\n",
    "# Функция предобработки текста\n",
    "def preprocess_text(text):\n",
    "    \"\"\"\n",
    "    Обрабатывает текст, приводя его к нижнему регистру, удаляя пунктуацию и применяя лемматизацию\n",
    "    \n",
    "    \"\"\"\n",
    "    text = text.lower()                                      # Приводим к нижнему регистру\n",
    "    text = re.sub(r'[^\\w\\s]', '', text)                      # Удаляем все символы, кроме букв и пробелов\n",
    "    \n",
    "    # Разбиваем текст на слова\n",
    "    words = text.split()\n",
    "    # Лемматизация и удаляем стоп-слова\n",
    "    words = [morph.parse(w)[0].normal_form for w in words if w not in stop_words]\n",
    "    \n",
    "    return ' '.join(words)                                   # Собираем обратно в строку\n",
    "\n",
    "# Применяем предобработку к данным\n",
    "train['Query'] = train['Query'].apply(preprocess_text)       # Обрабатываем тренировочные данные\n",
    "test['Query'] = test['Query'].apply(preprocess_text)         # Обрабатываем тестовые данные\n",
    "\n",
    "# Разделение данных на тренировочную и валидационную выборки\n",
    "X_train, X_val, y_train, y_val = train_test_split(\n",
    "    train['Query'],                                          # Тексты запросов\n",
    "    train['CategoryID'],                                     # Соответствующие категории\n",
    "    test_size=0.2,\n",
    "    random_state=42\n",
    ")\n",
    "\n",
    "# Создание пайплайна обработки данных и классификации\n",
    "pipeline = Pipeline([\n",
    "    # Шаг 1: Преобразование текста в числовые признаки с помощью TF-IDF\n",
    "    ('tfidf', TfidfVectorizer(\n",
    "        max_features = 20000,                                 # Максимальное количество признаков\n",
    "        ngram_range = (1, 3),                                 # Используем униграммы, биграммы и триграммы\n",
    "        min_df = 2                                            # Игнорируем слова, встречающиеся реже чем в 2 документах\n",
    "    )),\n",
    "    \n",
    "    # Шаг 2: Классификатор - логистическая регрессия\n",
    "    ('clf', LogisticRegression(\n",
    "        max_iter=1000,                                        # Максимальное количество итераций\n",
    "        class_weight='balanced',                              # Автоматически балансируем классы\n",
    "        solver='liblinear'                                    # Алгоритм оптимизации\n",
    "    ))\n",
    "])\n",
    "\n",
    "# Обучение модели на тренировочных данных\n",
    "pipeline.fit(X_train, y_train)\n",
    "\n",
    "# Проверка качества модели на валидационной выборке\n",
    "val_preds = pipeline.predict(X_val)                            # Получаем предсказания\n",
    "# Выводим F1-score\n",
    "print(f\"Validation F1-score: {f1_score(y_val, val_preds, average='macro')}\")\n",
    "\n",
    "# Предсказание на тестовых данных\n",
    "test_preds = pipeline.predict(test['Query'])\n",
    "\n",
    "# Сохранение результатов в файл для отправки\n",
    "submission = pd.DataFrame({\n",
    "    'ID': test['ID'],                                          # ID запросов\n",
    "    'CategoryID': test_preds                                   # Предсказанные категории\n",
    "})\n",
    "submission.to_csv('submission.csv', index=False)               # Сохраняем без индекса"
   ]
  },
  {
   "cell_type": "markdown",
   "id": "06f8a669",
   "metadata": {
    "papermill": {
     "duration": 0.00647,
     "end_time": "2025-05-31T16:10:28.887064",
     "exception": false,
     "start_time": "2025-05-31T16:10:28.880594",
     "status": "completed"
    },
    "tags": []
   },
   "source": [
    "Модель продемонстрировала высокую эффективность в задаче классификации, достигнув **F1-score 0.826** на валидационной выборке. Этот результат свидетельствует о хорошем балансе между точностью (precision) и полнотой (recall) предсказаний, но попробуем улучшить качество редсказания."
   ]
  },
  {
   "cell_type": "markdown",
   "id": "60c645f4",
   "metadata": {
    "papermill": {
     "duration": 0.006221,
     "end_time": "2025-05-31T16:10:28.899615",
     "exception": false,
     "start_time": "2025-05-31T16:10:28.893394",
     "status": "completed"
    },
    "tags": []
   },
   "source": [
    "Для решения задачи выберем трансформерную модель BERT, для обработки естественного языка (NLP), так как имеет ряд преимуществ:\n",
    "\n",
    "1. Универсален — работает с короткими текстами, смешанными языками и дисбалансом классов.\n",
    "\n",
    "2. Точно учитывает контекст — критично для классификации неочевидных запросов.\n",
    "\n",
    "3. Поддерживает fine-tuning — позволяет адаптировать модель под специфику 21vek."
   ]
  },
  {
   "cell_type": "code",
   "execution_count": 7,
   "id": "4e6d6b8c",
   "metadata": {
    "execution": {
     "iopub.execute_input": "2025-05-31T16:10:28.913380Z",
     "iopub.status.busy": "2025-05-31T16:10:28.913153Z",
     "iopub.status.idle": "2025-05-31T16:10:31.770190Z",
     "shell.execute_reply": "2025-05-31T16:10:31.769197Z"
    },
    "papermill": {
     "duration": 2.865639,
     "end_time": "2025-05-31T16:10:31.771595",
     "exception": false,
     "start_time": "2025-05-31T16:10:28.905956",
     "status": "completed"
    },
    "tags": []
   },
   "outputs": [
    {
     "name": "stdout",
     "output_type": "stream",
     "text": [
      "Requirement already satisfied: pymorphy3 in /usr/local/lib/python3.11/dist-packages (2.0.3)\r\n",
      "Requirement already satisfied: dawg2-python>=0.8.0 in /usr/local/lib/python3.11/dist-packages (from pymorphy3) (0.9.0)\r\n",
      "Requirement already satisfied: pymorphy3-dicts-ru in /usr/local/lib/python3.11/dist-packages (from pymorphy3) (2.4.417150.4580142)\r\n"
     ]
    }
   ],
   "source": [
    "!pip install pymorphy3"
   ]
  },
  {
   "cell_type": "code",
   "execution_count": 8,
   "id": "b0c17ed8",
   "metadata": {
    "execution": {
     "iopub.execute_input": "2025-05-31T16:10:31.787413Z",
     "iopub.status.busy": "2025-05-31T16:10:31.787148Z",
     "iopub.status.idle": "2025-05-31T16:39:18.799487Z",
     "shell.execute_reply": "2025-05-31T16:39:18.798611Z"
    },
    "papermill": {
     "duration": 1727.022074,
     "end_time": "2025-05-31T16:39:18.800752",
     "exception": false,
     "start_time": "2025-05-31T16:10:31.778678",
     "status": "completed"
    },
    "tags": []
   },
   "outputs": [
    {
     "name": "stderr",
     "output_type": "stream",
     "text": [
      "2025-05-31 16:10:46.830538: E external/local_xla/xla/stream_executor/cuda/cuda_fft.cc:477] Unable to register cuFFT factory: Attempting to register factory for plugin cuFFT when one has already been registered\n",
      "WARNING: All log messages before absl::InitializeLog() is called are written to STDERR\n",
      "E0000 00:00:1748707847.046150      19 cuda_dnn.cc:8310] Unable to register cuDNN factory: Attempting to register factory for plugin cuDNN when one has already been registered\n",
      "E0000 00:00:1748707847.108783      19 cuda_blas.cc:1418] Unable to register cuBLAS factory: Attempting to register factory for plugin cuBLAS when one has already been registered\n",
      "[nltk_data] Downloading package stopwords to /usr/share/nltk_data...\n",
      "[nltk_data]   Package stopwords is already up-to-date!\n"
     ]
    },
    {
     "data": {
      "application/vnd.jupyter.widget-view+json": {
       "model_id": "ceae7b84765849d99aedbf721008bc03",
       "version_major": 2,
       "version_minor": 0
      },
      "text/plain": [
       "tokenizer_config.json:   0%|          | 0.00/49.0 [00:00<?, ?B/s]"
      ]
     },
     "metadata": {},
     "output_type": "display_data"
    },
    {
     "data": {
      "application/vnd.jupyter.widget-view+json": {
       "model_id": "61121856621f49b2b2d83241fd98e12c",
       "version_major": 2,
       "version_minor": 0
      },
      "text/plain": [
       "vocab.txt:   0%|          | 0.00/996k [00:00<?, ?B/s]"
      ]
     },
     "metadata": {},
     "output_type": "display_data"
    },
    {
     "data": {
      "application/vnd.jupyter.widget-view+json": {
       "model_id": "2d1efc126b4f44b5bb0da0a73fd1a0a9",
       "version_major": 2,
       "version_minor": 0
      },
      "text/plain": [
       "tokenizer.json:   0%|          | 0.00/1.96M [00:00<?, ?B/s]"
      ]
     },
     "metadata": {},
     "output_type": "display_data"
    },
    {
     "data": {
      "application/vnd.jupyter.widget-view+json": {
       "model_id": "7533f0e06a8d4067a86a0d42ce94d9c8",
       "version_major": 2,
       "version_minor": 0
      },
      "text/plain": [
       "config.json:   0%|          | 0.00/625 [00:00<?, ?B/s]"
      ]
     },
     "metadata": {},
     "output_type": "display_data"
    },
    {
     "data": {
      "application/vnd.jupyter.widget-view+json": {
       "model_id": "9156f2f0fe6747e7ab0d4602001dcc13",
       "version_major": 2,
       "version_minor": 0
      },
      "text/plain": [
       "model.safetensors:   0%|          | 0.00/714M [00:00<?, ?B/s]"
      ]
     },
     "metadata": {},
     "output_type": "display_data"
    },
    {
     "name": "stderr",
     "output_type": "stream",
     "text": [
      "Some weights of BertForSequenceClassification were not initialized from the model checkpoint at bert-base-multilingual-cased and are newly initialized: ['classifier.bias', 'classifier.weight']\n",
      "You should probably TRAIN this model on a down-stream task to be able to use it for predictions and inference.\n",
      "Epoch 1/20: 100%|██████████| 326/326 [01:10<00:00,  4.63it/s, loss=3.77]\n"
     ]
    },
    {
     "name": "stdout",
     "output_type": "stream",
     "text": [
      "\n",
      "Validation F1: 0.5602\n",
      "Best model saved!\n"
     ]
    },
    {
     "name": "stderr",
     "output_type": "stream",
     "text": [
      "Epoch 2/20: 100%|██████████| 326/326 [01:19<00:00,  4.12it/s, loss=2.7]\n"
     ]
    },
    {
     "name": "stdout",
     "output_type": "stream",
     "text": [
      "\n",
      "Validation F1: 0.7484\n",
      "Best model saved!\n"
     ]
    },
    {
     "name": "stderr",
     "output_type": "stream",
     "text": [
      "Epoch 3/20: 100%|██████████| 326/326 [01:20<00:00,  4.03it/s, loss=1.87]\n"
     ]
    },
    {
     "name": "stdout",
     "output_type": "stream",
     "text": [
      "\n",
      "Validation F1: 0.7695\n",
      "Best model saved!\n"
     ]
    },
    {
     "name": "stderr",
     "output_type": "stream",
     "text": [
      "Epoch 4/20: 100%|██████████| 326/326 [01:21<00:00,  4.01it/s, loss=1.29]\n"
     ]
    },
    {
     "name": "stdout",
     "output_type": "stream",
     "text": [
      "\n",
      "Validation F1: 0.8141\n",
      "Best model saved!\n"
     ]
    },
    {
     "name": "stderr",
     "output_type": "stream",
     "text": [
      "Epoch 5/20: 100%|██████████| 326/326 [01:20<00:00,  4.03it/s, loss=0.902]\n"
     ]
    },
    {
     "name": "stdout",
     "output_type": "stream",
     "text": [
      "\n",
      "Validation F1: 0.8342\n",
      "Best model saved!\n"
     ]
    },
    {
     "name": "stderr",
     "output_type": "stream",
     "text": [
      "Epoch 6/20: 100%|██████████| 326/326 [01:21<00:00,  4.02it/s, loss=0.629]\n"
     ]
    },
    {
     "name": "stdout",
     "output_type": "stream",
     "text": [
      "\n",
      "Validation F1: 0.8554\n",
      "Best model saved!\n"
     ]
    },
    {
     "name": "stderr",
     "output_type": "stream",
     "text": [
      "Epoch 7/20: 100%|██████████| 326/326 [01:21<00:00,  4.02it/s, loss=0.448]\n"
     ]
    },
    {
     "name": "stdout",
     "output_type": "stream",
     "text": [
      "\n",
      "Validation F1: 0.8693\n",
      "Best model saved!\n"
     ]
    },
    {
     "name": "stderr",
     "output_type": "stream",
     "text": [
      "Epoch 8/20: 100%|██████████| 326/326 [01:21<00:00,  4.02it/s, loss=0.31]\n"
     ]
    },
    {
     "name": "stdout",
     "output_type": "stream",
     "text": [
      "\n",
      "Validation F1: 0.8793\n",
      "Best model saved!\n"
     ]
    },
    {
     "name": "stderr",
     "output_type": "stream",
     "text": [
      "Epoch 9/20: 100%|██████████| 326/326 [01:21<00:00,  4.02it/s, loss=0.227]\n"
     ]
    },
    {
     "name": "stdout",
     "output_type": "stream",
     "text": [
      "\n",
      "Validation F1: 0.8863\n",
      "Best model saved!\n"
     ]
    },
    {
     "name": "stderr",
     "output_type": "stream",
     "text": [
      "Epoch 10/20: 100%|██████████| 326/326 [01:21<00:00,  4.01it/s, loss=0.178]\n"
     ]
    },
    {
     "name": "stdout",
     "output_type": "stream",
     "text": [
      "\n",
      "Validation F1: 0.8767\n"
     ]
    },
    {
     "name": "stderr",
     "output_type": "stream",
     "text": [
      "Epoch 11/20: 100%|██████████| 326/326 [01:20<00:00,  4.03it/s, loss=0.131]\n"
     ]
    },
    {
     "name": "stdout",
     "output_type": "stream",
     "text": [
      "\n",
      "Validation F1: 0.8901\n",
      "Best model saved!\n"
     ]
    },
    {
     "name": "stderr",
     "output_type": "stream",
     "text": [
      "Epoch 12/20: 100%|██████████| 326/326 [01:21<00:00,  4.00it/s, loss=0.106]\n"
     ]
    },
    {
     "name": "stdout",
     "output_type": "stream",
     "text": [
      "\n",
      "Validation F1: 0.8823\n"
     ]
    },
    {
     "name": "stderr",
     "output_type": "stream",
     "text": [
      "Epoch 13/20: 100%|██████████| 326/326 [01:21<00:00,  4.02it/s, loss=0.0839]\n"
     ]
    },
    {
     "name": "stdout",
     "output_type": "stream",
     "text": [
      "\n",
      "Validation F1: 0.8899\n"
     ]
    },
    {
     "name": "stderr",
     "output_type": "stream",
     "text": [
      "Epoch 14/20: 100%|██████████| 326/326 [01:20<00:00,  4.03it/s, loss=0.0733]\n"
     ]
    },
    {
     "name": "stdout",
     "output_type": "stream",
     "text": [
      "\n",
      "Validation F1: 0.9052\n",
      "Best model saved!\n"
     ]
    },
    {
     "name": "stderr",
     "output_type": "stream",
     "text": [
      "Epoch 15/20: 100%|██████████| 326/326 [01:21<00:00,  4.02it/s, loss=0.0725]\n"
     ]
    },
    {
     "name": "stdout",
     "output_type": "stream",
     "text": [
      "\n",
      "Validation F1: 0.9023\n"
     ]
    },
    {
     "name": "stderr",
     "output_type": "stream",
     "text": [
      "Epoch 16/20: 100%|██████████| 326/326 [01:20<00:00,  4.03it/s, loss=0.0537]\n"
     ]
    },
    {
     "name": "stdout",
     "output_type": "stream",
     "text": [
      "\n",
      "Validation F1: 0.8937\n"
     ]
    },
    {
     "name": "stderr",
     "output_type": "stream",
     "text": [
      "Epoch 17/20: 100%|██████████| 326/326 [01:21<00:00,  4.02it/s, loss=0.0543]\n"
     ]
    },
    {
     "name": "stdout",
     "output_type": "stream",
     "text": [
      "\n",
      "Validation F1: 0.8983\n"
     ]
    },
    {
     "name": "stderr",
     "output_type": "stream",
     "text": [
      "Epoch 18/20: 100%|██████████| 326/326 [01:21<00:00,  4.02it/s, loss=0.0504]\n"
     ]
    },
    {
     "name": "stdout",
     "output_type": "stream",
     "text": [
      "\n",
      "Validation F1: 0.9060\n",
      "Best model saved!\n"
     ]
    },
    {
     "name": "stderr",
     "output_type": "stream",
     "text": [
      "Epoch 19/20: 100%|██████████| 326/326 [01:21<00:00,  4.01it/s, loss=0.0461]\n"
     ]
    },
    {
     "name": "stdout",
     "output_type": "stream",
     "text": [
      "\n",
      "Validation F1: 0.8978\n"
     ]
    },
    {
     "name": "stderr",
     "output_type": "stream",
     "text": [
      "Epoch 20/20: 100%|██████████| 326/326 [01:20<00:00,  4.03it/s, loss=0.0413]\n"
     ]
    },
    {
     "name": "stdout",
     "output_type": "stream",
     "text": [
      "\n",
      "Validation F1: 0.8944\n"
     ]
    },
    {
     "name": "stderr",
     "output_type": "stream",
     "text": [
      "Predicting: 100%|██████████| 122/122 [00:08<00:00, 14.34it/s]\n"
     ]
    },
    {
     "name": "stdout",
     "output_type": "stream",
     "text": [
      "Model saved to production_model\n"
     ]
    }
   ],
   "source": [
    "# Импорт необходимых библиотек\n",
    "import torch\n",
    "import pandas as pd\n",
    "import re\n",
    "import numpy as np\n",
    "import json\n",
    "import os\n",
    "from transformers import BertTokenizer, BertForSequenceClassification               # Библиотека для работы с BERT\n",
    "from torch.optim import AdamW                                                       # Оптимизатор\n",
    "from torch.utils.data import Dataset, DataLoader, RandomSampler, SequentialSampler  # Для создания датасетов и батчей\n",
    "from sklearn.model_selection import train_test_split  \n",
    "from sklearn.metrics import f1_score                                     \n",
    "from sklearn.utils.class_weight import compute_class_weight                         # Веса классов для дисбаланса\n",
    "import pymorphy3                                                                    # Морфологический анализатор для русского языка\n",
    "from nltk.corpus import stopwords  \n",
    "import nltk\n",
    "from tqdm import tqdm   \n",
    "\n",
    "# Словарь соответствия ID и названий категорий\n",
    "categories = pd.read_csv('/kaggle/input/21vek-query-classification/categories.csv')\n",
    "category_names = dict(zip(categories['CategoryID'], categories['CategoryName']))\n",
    "\n",
    "# Инициализация стоп-слов и морфологического анализатора\n",
    "nltk.download('stopwords') \n",
    "morph = pymorphy3.MorphAnalyzer()\n",
    "stop_words = set(stopwords.words('russian'))\n",
    "device = torch.device('cuda' if torch.cuda.is_available() else 'cpu')\n",
    "\n",
    "# Функция предобработки текста\n",
    "def preprocess_text(text):\n",
    "    \"\"\"\n",
    "    Предобработка текста: приведение к нижнему регистру, удаление лишних символов, лемматизация\n",
    "    \n",
    "    \"\"\"\n",
    "    text = str(text).lower()\n",
    "    \n",
    "    # Удаление специальных символов, но сохранение цифр и некоторых полезных символов\n",
    "    text = re.sub(r'[^\\w\\s\\-+/.,!?@#$%&*()0-9]', ' ', text)  \n",
    "    words = text.split()\n",
    "    \n",
    "    lemmas = []\n",
    "    for word in words:\n",
    "        # Удаление стоп-слов и коротких слов (длина > 1)\n",
    "        if word not in stop_words and len(word) > 1:\n",
    "            # Проверка, что слово состоит из русских букв, цифр или разрешенных символов\n",
    "            if re.match(r'^[а-яё0-9\\-+/.,]+$', word):\n",
    "                try:\n",
    "                    # Лемматизация слова (приведение к нормальной форме)\n",
    "                    parsed = morph.parse(word)[0]\n",
    "                    word = parsed.normal_form\n",
    "                except:\n",
    "                    pass                                                   # В случае ошибки оставляем слово как есть\n",
    "            lemmas.append(word)\n",
    "    \n",
    "    return ' '.join(lemmas)\n",
    "\n",
    "# Кастомный класс Dataset для обработки текстовых данных\n",
    "class QueryDataset(Dataset):\n",
    "    \"\"\"\n",
    "    Класс для создания датасета из текстовых данных для BERT\n",
    "    \n",
    "    \"\"\"\n",
    "    def __init__(self, texts, labels, tokenizer, max_len):\n",
    "        self.texts = texts                                                  # Тексты запросов\n",
    "        self.labels = labels                                                # Метки классов\n",
    "        self.tokenizer = tokenizer                                          # Токенизатор BERT\n",
    "        self.max_len = max_len                                              # Максимальная длина последовательности\n",
    "    \n",
    "    def __len__(self):\n",
    "        return len(self.texts)                                              # Количество примеров\n",
    "    \n",
    "    def __getitem__(self, idx):\n",
    "        \"\"\"\n",
    "        Возвращает один элемент датасета в формате, понятном для BERT\n",
    "        \n",
    "        \"\"\"\n",
    "        text = str(self.texts[idx])\n",
    "        # Токенизация текста с добавлением специальных токенов [CLS] и [SEP]\n",
    "        encoding = self.tokenizer(\n",
    "            text,\n",
    "            max_length=self.max_len,\n",
    "            padding='max_length',                                           # Дополнение до max_len\n",
    "            truncation=True,                                                # Обрезка длинных текстов\n",
    "            return_tensors='pt'                                             # Возврат тензоров PyTorch\n",
    "        )\n",
    "        \n",
    "        # Формируем словарь с входными данными для модели\n",
    "        item = {\n",
    "            'input_ids': encoding['input_ids'].flatten(),                   # Индексы токенов\n",
    "            'attention_mask': encoding['attention_mask'].flatten()          # Маска внимания\n",
    "        }\n",
    "        \n",
    "        # Добавляем метки, если они есть (для тестовых данных меток нет)\n",
    "        if self.labels is not None:\n",
    "            item['labels'] = torch.tensor(self.labels[idx], dtype=torch.long)\n",
    "        return item\n",
    "\n",
    "# Гиперпараметры модели\n",
    "MAX_LEN = 32                                                                     # Максимальная длина текста (в токенах)\n",
    "BATCH_SIZE = 32                                                                  # Размер батча\n",
    "EPOCHS = 20                                                                      # Количество эпох обучения\n",
    "LR = 1e-5                                                                        # Скорость обучения\n",
    "MODEL_NAME = 'bert-base-multilingual-cased'                                      # Название предобученной модели\n",
    "\n",
    "# Загрузка данных\n",
    "train = pd.read_csv('/kaggle/input/21vek-query-classification/train.csv')        # Обучающие данные\n",
    "test = pd.read_csv('/kaggle/input/21vek-query-classification/test.csv')          # Тестовые данные\n",
    "\n",
    "# Предобработка текстовых данных\n",
    "train['processed'] = train['Query'].apply(preprocess_text) \n",
    "test['processed'] = test['Query'].apply(preprocess_text)           \n",
    "\n",
    "# Разделение данных на обучающую и валидационную выборки\n",
    "X_train, X_val, y_train, y_val = train_test_split(\n",
    "    train['processed'],                                                           # Тексты\n",
    "    train['CategoryID'],                                                          # Метки\n",
    "    test_size=0.1,\n",
    "    random_state=42,\n",
    "    stratify=train['CategoryID']                                                  # Стратификация для сохранения распределения классов\n",
    ")\n",
    "\n",
    "# Перенумерация классов в диапазон [0, num_classes-1]\n",
    "unique_classes = np.unique(y_train)                                               # Уникальные классы\n",
    "class_mapping = {old: new for new, old in enumerate(unique_classes)}              # Сопоставление старых и новых меток\n",
    "y_train = np.array([class_mapping[x] for x in y_train])                           # Преобразование меток обучающей выборки\n",
    "y_val = np.array([class_mapping[x] for x in y_val])                               # Преобразование меток валидационной выборки\n",
    "num_classes = len(unique_classes)                                                 # Количество уникальных классов\n",
    "\n",
    "# Инициализация модели BERT\n",
    "tokenizer = BertTokenizer.from_pretrained(MODEL_NAME)                             # Загрузка токенизатора\n",
    "model = BertForSequenceClassification.from_pretrained(\n",
    "    MODEL_NAME,\n",
    "    num_labels = num_classes                                                      # Указываем количество классов\n",
    ").to(device)\n",
    "\n",
    "# Вычисление весов классов для учета дисбаланса\n",
    "class_weights = compute_class_weight(\n",
    "    class_weight = 'balanced',                                                    # Автоматический баланс\n",
    "    classes = np.arange(num_classes),                                             # Все классы\n",
    "    y = y_train                                                                   # Метки обучающей выборки\n",
    ")\n",
    "class_weights = torch.tensor(class_weights, dtype=torch.float).to(device)         # Конвертация в тензор\n",
    "criterion = torch.nn.CrossEntropyLoss(weight=class_weights)                       # Функция потерь с весами\n",
    "\n",
    "# Создание DataLoader'ов\n",
    "train_dataset = QueryDataset(X_train.values, y_train, tokenizer, MAX_LEN) \n",
    "val_dataset = QueryDataset(X_val.values, y_val, tokenizer, MAX_LEN)       \n",
    "test_dataset = QueryDataset(test['processed'].values, None, tokenizer, MAX_LEN) \n",
    "\n",
    "# DataLoader для обучения (с перемешиванием)\n",
    "train_loader = DataLoader(\n",
    "    train_dataset,\n",
    "    sampler=RandomSampler(train_dataset),                                         # Случайное перемешивание\n",
    "    batch_size=BATCH_SIZE\n",
    ")\n",
    "\n",
    "# DataLoader для валидации (без перемешивания)\n",
    "val_loader = DataLoader(\n",
    "    val_dataset,\n",
    "    sampler=SequentialSampler(val_dataset),                                       # Без перемешивания\n",
    "    batch_size=BATCH_SIZE\n",
    ")\n",
    "\n",
    "# DataLoader для тестирования\n",
    "test_loader = DataLoader(\n",
    "    test_dataset,\n",
    "    sampler=SequentialSampler(test_dataset),                                      # Без перемешивания\n",
    "    batch_size=BATCH_SIZE\n",
    ")\n",
    "\n",
    "# Инициализация оптимизатора AdamW (адаптация Adam для BERT)\n",
    "optimizer = AdamW(model.parameters(), lr=LR)\n",
    "\n",
    "# Обучение модели\n",
    "best_f1 = 0                                                                      # Лучшее значение F1-score\n",
    "for epoch in range(EPOCHS):\n",
    "    model.train()                                                                # Переводим модель в режим обучения\n",
    "    total_loss = 0                                                               # Суммарные потери за эпоху\n",
    "    \n",
    "    # Индикатор прогресса с tqdm\n",
    "    progress_bar = tqdm(train_loader, desc=f'Epoch {epoch + 1}/{EPOCHS}')\n",
    "    for batch in progress_bar:\n",
    "        optimizer.zero_grad()                                                    # Обнуляем градиенты\n",
    "        \n",
    "        # Перенос данных на устройство (GPU/CPU)\n",
    "        input_ids = batch['input_ids'].to(device)\n",
    "        attention_mask = batch['attention_mask'].to(device)\n",
    "        labels = batch['labels'].to(device)\n",
    "        \n",
    "        # Прямой проход через модель\n",
    "        outputs = model(\n",
    "            input_ids=input_ids,\n",
    "            attention_mask=attention_mask,\n",
    "            labels=labels\n",
    "        )\n",
    "        \n",
    "        # Вычисление функции потерь\n",
    "        loss = criterion(outputs.logits, labels)\n",
    "        total_loss += loss.item()                                                 # Накопление потерь\n",
    "        \n",
    "        # Обратное распространение ошибки\n",
    "        loss.backward()\n",
    "        torch.nn.utils.clip_grad_norm_(model.parameters(), 1.0)                   # Обрезка градиентов\n",
    "        optimizer.step()                                                          # Шаг оптимизации\n",
    "        \n",
    "        # Обновление информации в progress bar\n",
    "        progress_bar.set_postfix({'loss': total_loss / (progress_bar.n + 1)})\n",
    "    \n",
    "    # Валидация после каждой эпохи\n",
    "    model.eval()                                                                   # Переводим модель в режим оценки\n",
    "    val_preds = []                                                                 # Предсказания модели\n",
    "    val_true = []                                                                  # Истинные метки\n",
    "    \n",
    "    with torch.no_grad():                                                          # Отключаем вычисление градиентов\n",
    "        for batch in val_loader:\n",
    "            input_ids = batch['input_ids'].to(device)\n",
    "            attention_mask = batch['attention_mask'].to(device)\n",
    "            labels = batch['labels'].to(device)\n",
    "            \n",
    "            # Прямой проход без вычисления градиентов\n",
    "            outputs = model(\n",
    "                input_ids=input_ids,\n",
    "                attention_mask=attention_mask\n",
    "            )\n",
    "            \n",
    "            # Получение предсказаний (индекс класса с максимальной вероятностью)\n",
    "            preds = torch.argmax(outputs.logits, dim=1)\n",
    "            val_preds.extend(preds.cpu().numpy())                                   # Сохраняем предсказания\n",
    "            val_true.extend(labels.cpu().numpy())                                   # Сохраняем истинные метки\n",
    "    \n",
    "    # Вычисление F1-score (макро-усреднение по всем классам)\n",
    "    f1 = f1_score(val_true, val_preds, average='macro')\n",
    "    print(f'\\nValidation F1: {f1:.4f}')\n",
    "    \n",
    "    # Сохранение лучшей модели\n",
    "    if f1 > best_f1:\n",
    "        best_f1 = f1\n",
    "        torch.save(model.state_dict(), 'best_model.pt')                             # Сохраняем веса модели\n",
    "        print('Best model saved!')\n",
    "\n",
    "# Загрузка лучшей модели (с наибольшим F1-score)\n",
    "model.load_state_dict(torch.load('best_model.pt'))\n",
    "\n",
    "# Предсказание на тестовых данных\n",
    "model.eval()                                                                        # Режим оценки\n",
    "test_preds = []                                                                     # Предсказания для тестовых данных\n",
    "\n",
    "with torch.no_grad():\n",
    "    for batch in tqdm(test_loader, desc='Predicting'):\n",
    "        input_ids = batch['input_ids'].to(device)\n",
    "        attention_mask = batch['attention_mask'].to(device)\n",
    "        \n",
    "        # Прямой проход для тестовых данных\n",
    "        outputs = model(\n",
    "            input_ids=input_ids,\n",
    "            attention_mask=attention_mask\n",
    "        )\n",
    "        \n",
    "        # Получение предсказаний\n",
    "        preds = torch.argmax(outputs.logits, dim=1)\n",
    "        test_preds.extend(preds.cpu().numpy())                                       # Сохраняем предсказания\n",
    "\n",
    "# Восстановление оригинальных меток классов\n",
    "reverse_mapping = {v: k for k, v in class_mapping.items()}                           # Обратное сопоставление\n",
    "test['CategoryID'] = [reverse_mapping[x] for x in test_preds]                        # Преобразование предсказаний\n",
    "\n",
    "# Сохранение результатов в файлы\n",
    "model_dir = \"production_model\"\n",
    "os.makedirs(model_dir, exist_ok=True)\n",
    "\n",
    "# 1. Сохраняем модель и конфигурацию\n",
    "model.save_pretrained(model_dir)\n",
    "\n",
    "# Дополнительно сохраняем свои данные\n",
    "torch.save({\n",
    "    'class_mapping': class_mapping,\n",
    "    'reverse_mapping': reverse_mapping,\n",
    "    'category_names': category_names,                                      # Добавляем названия категорий\n",
    "    'max_len': MAX_LEN\n",
    "}, f'{model_dir}/additional_data.pth')\n",
    "\n",
    "# 2. Сохраняем токенизатор\n",
    "tokenizer.save_pretrained(model_dir)\n",
    "\n",
    "# 3. Определяем и сохраняем параметры предобработки\n",
    "preprocess_info = {\n",
    "    'stop_words': list(stop_words),\n",
    "    'text_clean_pattern': r'[^\\w\\s\\-+/.,!?@#$%&*()0-9]',\n",
    "    'word_pattern': r'^[а-яё0-9\\-+/.,]+$',\n",
    "    'morph_analyzer': 'pymorphy3'\n",
    "}\n",
    "\n",
    "with open(f'{model_dir}/preprocess_info.json', 'w', encoding='utf-8') as f:\n",
    "    json.dump(preprocess_info, f, ensure_ascii=False, indent=2)\n",
    "\n",
    "print(f\"Model saved to {model_dir}\")"
   ]
  },
  {
   "cell_type": "code",
   "execution_count": null,
   "id": "e5a7d472",
   "metadata": {
    "papermill": {
     "duration": 0.514074,
     "end_time": "2025-05-31T16:39:19.886956",
     "exception": false,
     "start_time": "2025-05-31T16:39:19.372882",
     "status": "completed"
    },
    "tags": []
   },
   "outputs": [],
   "source": []
  },
  {
   "cell_type": "markdown",
   "id": "10634697",
   "metadata": {
    "papermill": {
     "duration": 0.56247,
     "end_time": "2025-05-31T16:39:20.960659",
     "exception": false,
     "start_time": "2025-05-31T16:39:20.398189",
     "status": "completed"
    },
    "tags": []
   },
   "source": [
    "Результаты работы модели показывают устойчивое улучшение качества классификации с каждой эпохой, достигнув максимального значения на 13-й эпохе с **F1-score (macro): 0.9017**. Использование BERT с балансировкой весов классов и тщательной предобработкой текста дало лучший результат, для многоклассовой задачи."
   ]
  },
  {
   "cell_type": "markdown",
   "id": "26fe4925",
   "metadata": {
    "papermill": {
     "duration": 0.508916,
     "end_time": "2025-05-31T16:39:22.050727",
     "exception": false,
     "start_time": "2025-05-31T16:39:21.541811",
     "status": "completed"
    },
    "tags": []
   },
   "source": [
    "Приведем неколько искуственных примеров, для проверки работы предсказания модели."
   ]
  },
  {
   "cell_type": "code",
   "execution_count": 9,
   "id": "79cb58c3",
   "metadata": {
    "execution": {
     "iopub.execute_input": "2025-05-31T16:39:23.147043Z",
     "iopub.status.busy": "2025-05-31T16:39:23.146761Z",
     "iopub.status.idle": "2025-05-31T16:39:23.390014Z",
     "shell.execute_reply": "2025-05-31T16:39:23.389274Z"
    },
    "papermill": {
     "duration": 0.762904,
     "end_time": "2025-05-31T16:39:23.391184",
     "exception": false,
     "start_time": "2025-05-31T16:39:22.628280",
     "status": "completed"
    },
    "tags": []
   },
   "outputs": [
    {
     "name": "stdout",
     "output_type": "stream",
     "text": [
      "\n",
      "Запрос: Защитные стекла на Samsung Galaxy S10\n",
      "- Чехол/защитное стекло для телефона (99.7%, ID: 3)\n",
      "- Аксессуар для умных часов (0.0%, ID: 17)\n",
      "- Мобильный телефон (0.0%, ID: 4)\n",
      "\n",
      "Запрос: Наушники беспроводные Sony WH-1000XM4\n",
      "- Наушники/гарнитура (99.8%, ID: 14)\n",
      "- Мышь/клавиатура (0.0%, ID: 20)\n",
      "- Техническая сигнализация (0.0%, ID: 48)\n",
      "\n",
      "Запрос: Ноутбук игровой ASUS ROG Strix G15\n",
      "- Ноутбук (99.9%, ID: 5)\n",
      "- Сумка/чехол для ноутбука (0.0%, ID: 19)\n",
      "- Док-станция/репликатор для ноутбука (0.0%, ID: 42)\n",
      "\n",
      "Запрос: Смартфон Samsung Galaxy S10\n",
      "- Мобильный телефон (99.0%, ID: 4)\n",
      "- Чехол/защитное стекло для телефона (0.6%, ID: 3)\n",
      "- ЗУ/адаптер для портативных устройств (0.1%, ID: 25)\n",
      "\n",
      "Запрос: Умная колонка Яндекс Станция Макс\n",
      "- Портативная акустика (99.9%, ID: 2)\n",
      "- Маршрутизатор/DSL-модем (0.0%, ID: 37)\n",
      "- Мультимедиа акустика (0.0%, ID: 1)\n"
     ]
    }
   ],
   "source": [
    "# Чтение приложенных файлов\n",
    "categories = pd.read_csv('/kaggle/input/21vek-query-classification/categories.csv')\n",
    "\n",
    "# Словарь соответствия ID и названий категорий\n",
    "category_names = dict(zip(categories['CategoryID'], categories['CategoryName']))\n",
    "\n",
    "def predict_category(query):\n",
    "    # Предобработка запроса\n",
    "    processed = preprocess_text(query)\n",
    "    \n",
    "    # Токенизация\n",
    "    inputs = tokenizer(processed, return_tensors='pt', padding=True, truncation=True, max_length=MAX_LEN).to(device)\n",
    "    \n",
    "    # Предсказание\n",
    "    model.eval()\n",
    "    with torch.no_grad():\n",
    "        outputs = model(**inputs)\n",
    "        probs = torch.softmax(outputs.logits, dim=1)\n",
    "    \n",
    "    # Получаем топ-3 категории\n",
    "    top3 = torch.topk(probs, 3)\n",
    "    results = []\n",
    "    for i in range(3):\n",
    "        cat_id = reverse_mapping[top3.indices[0][i].item()]\n",
    "        prob = top3.values[0][i].item() * 100\n",
    "        results.append((category_names[cat_id], prob, cat_id))\n",
    "    \n",
    "    return results\n",
    "\n",
    "# Примеры запросов\n",
    "queries = [\n",
    "    \"Защитные стекла на Samsung Galaxy S10\",\n",
    "    \"Наушники беспроводные Sony WH-1000XM4\",\n",
    "    \"Ноутбук игровой ASUS ROG Strix G15\",\n",
    "    \"Смартфон Samsung Galaxy S10\", \n",
    "    \"Умная колонка Яндекс Станция Макс\"\n",
    "]\n",
    "\n",
    "# Предсказание для каждого запроса\n",
    "for query in queries:\n",
    "    print(f\"\\nЗапрос: {query}\")\n",
    "    top3 = predict_category(query)\n",
    "    for name, prob, cat_id in top3:\n",
    "        print(f\"- {name} ({prob:.1f}%, ID: {cat_id})\")"
   ]
  },
  {
   "cell_type": "code",
   "execution_count": null,
   "id": "b540d2df",
   "metadata": {
    "papermill": {
     "duration": 0.56414,
     "end_time": "2025-05-31T16:39:24.464108",
     "exception": false,
     "start_time": "2025-05-31T16:39:23.899968",
     "status": "completed"
    },
    "tags": []
   },
   "outputs": [],
   "source": []
  }
 ],
 "metadata": {
  "kaggle": {
   "accelerator": "nvidiaTeslaT4",
   "dataSources": [
    {
     "databundleVersionId": 11970628,
     "sourceId": 99807,
     "sourceType": "competition"
    }
   ],
   "dockerImageVersionId": 31040,
   "isGpuEnabled": true,
   "isInternetEnabled": true,
   "language": "python",
   "sourceType": "notebook"
  },
  "kernelspec": {
   "display_name": "Python 3",
   "language": "python",
   "name": "python3"
  },
  "language_info": {
   "codemirror_mode": {
    "name": "ipython",
    "version": 3
   },
   "file_extension": ".py",
   "mimetype": "text/x-python",
   "name": "python",
   "nbconvert_exporter": "python",
   "pygments_lexer": "ipython3",
   "version": "3.11.11"
  },
  "papermill": {
   "default_parameters": {},
   "duration": 1758.297131,
   "end_time": "2025-05-31T16:39:28.732422",
   "environment_variables": {},
   "exception": null,
   "input_path": "__notebook__.ipynb",
   "output_path": "__notebook__.ipynb",
   "parameters": {},
   "start_time": "2025-05-31T16:10:10.435291",
   "version": "2.6.0"
  },
  "widgets": {
   "application/vnd.jupyter.widget-state+json": {
    "state": {
     "06e87bcdc3434dba92b9dc2eb18f3160": {
      "model_module": "@jupyter-widgets/base",
      "model_module_version": "2.0.0",
      "model_name": "LayoutModel",
      "state": {
       "_model_module": "@jupyter-widgets/base",
       "_model_module_version": "2.0.0",
       "_model_name": "LayoutModel",
       "_view_count": null,
       "_view_module": "@jupyter-widgets/base",
       "_view_module_version": "2.0.0",
       "_view_name": "LayoutView",
       "align_content": null,
       "align_items": null,
       "align_self": null,
       "border_bottom": null,
       "border_left": null,
       "border_right": null,
       "border_top": null,
       "bottom": null,
       "display": null,
       "flex": null,
       "flex_flow": null,
       "grid_area": null,
       "grid_auto_columns": null,
       "grid_auto_flow": null,
       "grid_auto_rows": null,
       "grid_column": null,
       "grid_gap": null,
       "grid_row": null,
       "grid_template_areas": null,
       "grid_template_columns": null,
       "grid_template_rows": null,
       "height": null,
       "justify_content": null,
       "justify_items": null,
       "left": null,
       "margin": null,
       "max_height": null,
       "max_width": null,
       "min_height": null,
       "min_width": null,
       "object_fit": null,
       "object_position": null,
       "order": null,
       "overflow": null,
       "padding": null,
       "right": null,
       "top": null,
       "visibility": null,
       "width": null
      }
     },
     "07910f17636044ddbb1c6ff2cde66144": {
      "model_module": "@jupyter-widgets/base",
      "model_module_version": "2.0.0",
      "model_name": "LayoutModel",
      "state": {
       "_model_module": "@jupyter-widgets/base",
       "_model_module_version": "2.0.0",
       "_model_name": "LayoutModel",
       "_view_count": null,
       "_view_module": "@jupyter-widgets/base",
       "_view_module_version": "2.0.0",
       "_view_name": "LayoutView",
       "align_content": null,
       "align_items": null,
       "align_self": null,
       "border_bottom": null,
       "border_left": null,
       "border_right": null,
       "border_top": null,
       "bottom": null,
       "display": null,
       "flex": null,
       "flex_flow": null,
       "grid_area": null,
       "grid_auto_columns": null,
       "grid_auto_flow": null,
       "grid_auto_rows": null,
       "grid_column": null,
       "grid_gap": null,
       "grid_row": null,
       "grid_template_areas": null,
       "grid_template_columns": null,
       "grid_template_rows": null,
       "height": null,
       "justify_content": null,
       "justify_items": null,
       "left": null,
       "margin": null,
       "max_height": null,
       "max_width": null,
       "min_height": null,
       "min_width": null,
       "object_fit": null,
       "object_position": null,
       "order": null,
       "overflow": null,
       "padding": null,
       "right": null,
       "top": null,
       "visibility": null,
       "width": null
      }
     },
     "0ee3ea20fe1b4bd1870fbeee75e6f026": {
      "model_module": "@jupyter-widgets/base",
      "model_module_version": "2.0.0",
      "model_name": "LayoutModel",
      "state": {
       "_model_module": "@jupyter-widgets/base",
       "_model_module_version": "2.0.0",
       "_model_name": "LayoutModel",
       "_view_count": null,
       "_view_module": "@jupyter-widgets/base",
       "_view_module_version": "2.0.0",
       "_view_name": "LayoutView",
       "align_content": null,
       "align_items": null,
       "align_self": null,
       "border_bottom": null,
       "border_left": null,
       "border_right": null,
       "border_top": null,
       "bottom": null,
       "display": null,
       "flex": null,
       "flex_flow": null,
       "grid_area": null,
       "grid_auto_columns": null,
       "grid_auto_flow": null,
       "grid_auto_rows": null,
       "grid_column": null,
       "grid_gap": null,
       "grid_row": null,
       "grid_template_areas": null,
       "grid_template_columns": null,
       "grid_template_rows": null,
       "height": null,
       "justify_content": null,
       "justify_items": null,
       "left": null,
       "margin": null,
       "max_height": null,
       "max_width": null,
       "min_height": null,
       "min_width": null,
       "object_fit": null,
       "object_position": null,
       "order": null,
       "overflow": null,
       "padding": null,
       "right": null,
       "top": null,
       "visibility": null,
       "width": null
      }
     },
     "1105506e3f4545d6a70b67490060300c": {
      "model_module": "@jupyter-widgets/base",
      "model_module_version": "2.0.0",
      "model_name": "LayoutModel",
      "state": {
       "_model_module": "@jupyter-widgets/base",
       "_model_module_version": "2.0.0",
       "_model_name": "LayoutModel",
       "_view_count": null,
       "_view_module": "@jupyter-widgets/base",
       "_view_module_version": "2.0.0",
       "_view_name": "LayoutView",
       "align_content": null,
       "align_items": null,
       "align_self": null,
       "border_bottom": null,
       "border_left": null,
       "border_right": null,
       "border_top": null,
       "bottom": null,
       "display": null,
       "flex": null,
       "flex_flow": null,
       "grid_area": null,
       "grid_auto_columns": null,
       "grid_auto_flow": null,
       "grid_auto_rows": null,
       "grid_column": null,
       "grid_gap": null,
       "grid_row": null,
       "grid_template_areas": null,
       "grid_template_columns": null,
       "grid_template_rows": null,
       "height": null,
       "justify_content": null,
       "justify_items": null,
       "left": null,
       "margin": null,
       "max_height": null,
       "max_width": null,
       "min_height": null,
       "min_width": null,
       "object_fit": null,
       "object_position": null,
       "order": null,
       "overflow": null,
       "padding": null,
       "right": null,
       "top": null,
       "visibility": null,
       "width": null
      }
     },
     "15631b9019284c1680b823ff4af2fa82": {
      "model_module": "@jupyter-widgets/base",
      "model_module_version": "2.0.0",
      "model_name": "LayoutModel",
      "state": {
       "_model_module": "@jupyter-widgets/base",
       "_model_module_version": "2.0.0",
       "_model_name": "LayoutModel",
       "_view_count": null,
       "_view_module": "@jupyter-widgets/base",
       "_view_module_version": "2.0.0",
       "_view_name": "LayoutView",
       "align_content": null,
       "align_items": null,
       "align_self": null,
       "border_bottom": null,
       "border_left": null,
       "border_right": null,
       "border_top": null,
       "bottom": null,
       "display": null,
       "flex": null,
       "flex_flow": null,
       "grid_area": null,
       "grid_auto_columns": null,
       "grid_auto_flow": null,
       "grid_auto_rows": null,
       "grid_column": null,
       "grid_gap": null,
       "grid_row": null,
       "grid_template_areas": null,
       "grid_template_columns": null,
       "grid_template_rows": null,
       "height": null,
       "justify_content": null,
       "justify_items": null,
       "left": null,
       "margin": null,
       "max_height": null,
       "max_width": null,
       "min_height": null,
       "min_width": null,
       "object_fit": null,
       "object_position": null,
       "order": null,
       "overflow": null,
       "padding": null,
       "right": null,
       "top": null,
       "visibility": null,
       "width": null
      }
     },
     "1899951029f440e6a115359a30df4070": {
      "model_module": "@jupyter-widgets/controls",
      "model_module_version": "2.0.0",
      "model_name": "ProgressStyleModel",
      "state": {
       "_model_module": "@jupyter-widgets/controls",
       "_model_module_version": "2.0.0",
       "_model_name": "ProgressStyleModel",
       "_view_count": null,
       "_view_module": "@jupyter-widgets/base",
       "_view_module_version": "2.0.0",
       "_view_name": "StyleView",
       "bar_color": null,
       "description_width": ""
      }
     },
     "201c0e2b60a943f889006403ca86611a": {
      "model_module": "@jupyter-widgets/controls",
      "model_module_version": "2.0.0",
      "model_name": "HTMLModel",
      "state": {
       "_dom_classes": [],
       "_model_module": "@jupyter-widgets/controls",
       "_model_module_version": "2.0.0",
       "_model_name": "HTMLModel",
       "_view_count": null,
       "_view_module": "@jupyter-widgets/controls",
       "_view_module_version": "2.0.0",
       "_view_name": "HTMLView",
       "description": "",
       "description_allow_html": false,
       "layout": "IPY_MODEL_567e2bac0d8a4eea9b6fcfa5455f0c12",
       "placeholder": "​",
       "style": "IPY_MODEL_ae1af432e2df4c37a2b79e62804cb335",
       "tabbable": null,
       "tooltip": null,
       "value": " 625/625 [00:00&lt;00:00, 94.9kB/s]"
      }
     },
     "23c406451e02489684d8e46dcaafd712": {
      "model_module": "@jupyter-widgets/base",
      "model_module_version": "2.0.0",
      "model_name": "LayoutModel",
      "state": {
       "_model_module": "@jupyter-widgets/base",
       "_model_module_version": "2.0.0",
       "_model_name": "LayoutModel",
       "_view_count": null,
       "_view_module": "@jupyter-widgets/base",
       "_view_module_version": "2.0.0",
       "_view_name": "LayoutView",
       "align_content": null,
       "align_items": null,
       "align_self": null,
       "border_bottom": null,
       "border_left": null,
       "border_right": null,
       "border_top": null,
       "bottom": null,
       "display": null,
       "flex": null,
       "flex_flow": null,
       "grid_area": null,
       "grid_auto_columns": null,
       "grid_auto_flow": null,
       "grid_auto_rows": null,
       "grid_column": null,
       "grid_gap": null,
       "grid_row": null,
       "grid_template_areas": null,
       "grid_template_columns": null,
       "grid_template_rows": null,
       "height": null,
       "justify_content": null,
       "justify_items": null,
       "left": null,
       "margin": null,
       "max_height": null,
       "max_width": null,
       "min_height": null,
       "min_width": null,
       "object_fit": null,
       "object_position": null,
       "order": null,
       "overflow": null,
       "padding": null,
       "right": null,
       "top": null,
       "visibility": null,
       "width": null
      }
     },
     "24968c9ce989434ca2454127a87f7dd6": {
      "model_module": "@jupyter-widgets/controls",
      "model_module_version": "2.0.0",
      "model_name": "ProgressStyleModel",
      "state": {
       "_model_module": "@jupyter-widgets/controls",
       "_model_module_version": "2.0.0",
       "_model_name": "ProgressStyleModel",
       "_view_count": null,
       "_view_module": "@jupyter-widgets/base",
       "_view_module_version": "2.0.0",
       "_view_name": "StyleView",
       "bar_color": null,
       "description_width": ""
      }
     },
     "2cb0c3efdcf94e8499dab5f5ead29447": {
      "model_module": "@jupyter-widgets/controls",
      "model_module_version": "2.0.0",
      "model_name": "HTMLModel",
      "state": {
       "_dom_classes": [],
       "_model_module": "@jupyter-widgets/controls",
       "_model_module_version": "2.0.0",
       "_model_name": "HTMLModel",
       "_view_count": null,
       "_view_module": "@jupyter-widgets/controls",
       "_view_module_version": "2.0.0",
       "_view_name": "HTMLView",
       "description": "",
       "description_allow_html": false,
       "layout": "IPY_MODEL_1105506e3f4545d6a70b67490060300c",
       "placeholder": "​",
       "style": "IPY_MODEL_6d62318e61204ef1801a7c0407e781af",
       "tabbable": null,
       "tooltip": null,
       "value": " 1.96M/1.96M [00:00&lt;00:00, 23.9MB/s]"
      }
     },
     "2d1efc126b4f44b5bb0da0a73fd1a0a9": {
      "model_module": "@jupyter-widgets/controls",
      "model_module_version": "2.0.0",
      "model_name": "HBoxModel",
      "state": {
       "_dom_classes": [],
       "_model_module": "@jupyter-widgets/controls",
       "_model_module_version": "2.0.0",
       "_model_name": "HBoxModel",
       "_view_count": null,
       "_view_module": "@jupyter-widgets/controls",
       "_view_module_version": "2.0.0",
       "_view_name": "HBoxView",
       "box_style": "",
       "children": [
        "IPY_MODEL_cdf6b37a9d254a85b7427cc3e1737978",
        "IPY_MODEL_b11b2bb4c2194ebc8505726ce1166c70",
        "IPY_MODEL_2cb0c3efdcf94e8499dab5f5ead29447"
       ],
       "layout": "IPY_MODEL_0ee3ea20fe1b4bd1870fbeee75e6f026",
       "tabbable": null,
       "tooltip": null
      }
     },
     "336c48045e9b43f0ae69379dde3ec2a1": {
      "model_module": "@jupyter-widgets/controls",
      "model_module_version": "2.0.0",
      "model_name": "HTMLStyleModel",
      "state": {
       "_model_module": "@jupyter-widgets/controls",
       "_model_module_version": "2.0.0",
       "_model_name": "HTMLStyleModel",
       "_view_count": null,
       "_view_module": "@jupyter-widgets/base",
       "_view_module_version": "2.0.0",
       "_view_name": "StyleView",
       "background": null,
       "description_width": "",
       "font_size": null,
       "text_color": null
      }
     },
     "43fa31ceec9b4577a21052e750e6a0d5": {
      "model_module": "@jupyter-widgets/controls",
      "model_module_version": "2.0.0",
      "model_name": "HTMLModel",
      "state": {
       "_dom_classes": [],
       "_model_module": "@jupyter-widgets/controls",
       "_model_module_version": "2.0.0",
       "_model_name": "HTMLModel",
       "_view_count": null,
       "_view_module": "@jupyter-widgets/controls",
       "_view_module_version": "2.0.0",
       "_view_name": "HTMLView",
       "description": "",
       "description_allow_html": false,
       "layout": "IPY_MODEL_f0f04492461d45daae027b44526898ed",
       "placeholder": "​",
       "style": "IPY_MODEL_d244de44d8964e7ca704902882d3106b",
       "tabbable": null,
       "tooltip": null,
       "value": "vocab.txt: 100%"
      }
     },
     "52ac5efed6fa4d7cbb1c7785bc5367f1": {
      "model_module": "@jupyter-widgets/controls",
      "model_module_version": "2.0.0",
      "model_name": "HTMLStyleModel",
      "state": {
       "_model_module": "@jupyter-widgets/controls",
       "_model_module_version": "2.0.0",
       "_model_name": "HTMLStyleModel",
       "_view_count": null,
       "_view_module": "@jupyter-widgets/base",
       "_view_module_version": "2.0.0",
       "_view_name": "StyleView",
       "background": null,
       "description_width": "",
       "font_size": null,
       "text_color": null
      }
     },
     "55a7ac34aa194a0cb67030b3f062db9b": {
      "model_module": "@jupyter-widgets/base",
      "model_module_version": "2.0.0",
      "model_name": "LayoutModel",
      "state": {
       "_model_module": "@jupyter-widgets/base",
       "_model_module_version": "2.0.0",
       "_model_name": "LayoutModel",
       "_view_count": null,
       "_view_module": "@jupyter-widgets/base",
       "_view_module_version": "2.0.0",
       "_view_name": "LayoutView",
       "align_content": null,
       "align_items": null,
       "align_self": null,
       "border_bottom": null,
       "border_left": null,
       "border_right": null,
       "border_top": null,
       "bottom": null,
       "display": null,
       "flex": null,
       "flex_flow": null,
       "grid_area": null,
       "grid_auto_columns": null,
       "grid_auto_flow": null,
       "grid_auto_rows": null,
       "grid_column": null,
       "grid_gap": null,
       "grid_row": null,
       "grid_template_areas": null,
       "grid_template_columns": null,
       "grid_template_rows": null,
       "height": null,
       "justify_content": null,
       "justify_items": null,
       "left": null,
       "margin": null,
       "max_height": null,
       "max_width": null,
       "min_height": null,
       "min_width": null,
       "object_fit": null,
       "object_position": null,
       "order": null,
       "overflow": null,
       "padding": null,
       "right": null,
       "top": null,
       "visibility": null,
       "width": null
      }
     },
     "567e2bac0d8a4eea9b6fcfa5455f0c12": {
      "model_module": "@jupyter-widgets/base",
      "model_module_version": "2.0.0",
      "model_name": "LayoutModel",
      "state": {
       "_model_module": "@jupyter-widgets/base",
       "_model_module_version": "2.0.0",
       "_model_name": "LayoutModel",
       "_view_count": null,
       "_view_module": "@jupyter-widgets/base",
       "_view_module_version": "2.0.0",
       "_view_name": "LayoutView",
       "align_content": null,
       "align_items": null,
       "align_self": null,
       "border_bottom": null,
       "border_left": null,
       "border_right": null,
       "border_top": null,
       "bottom": null,
       "display": null,
       "flex": null,
       "flex_flow": null,
       "grid_area": null,
       "grid_auto_columns": null,
       "grid_auto_flow": null,
       "grid_auto_rows": null,
       "grid_column": null,
       "grid_gap": null,
       "grid_row": null,
       "grid_template_areas": null,
       "grid_template_columns": null,
       "grid_template_rows": null,
       "height": null,
       "justify_content": null,
       "justify_items": null,
       "left": null,
       "margin": null,
       "max_height": null,
       "max_width": null,
       "min_height": null,
       "min_width": null,
       "object_fit": null,
       "object_position": null,
       "order": null,
       "overflow": null,
       "padding": null,
       "right": null,
       "top": null,
       "visibility": null,
       "width": null
      }
     },
     "56ae07a1fcd44a6a9bf3967e87761104": {
      "model_module": "@jupyter-widgets/base",
      "model_module_version": "2.0.0",
      "model_name": "LayoutModel",
      "state": {
       "_model_module": "@jupyter-widgets/base",
       "_model_module_version": "2.0.0",
       "_model_name": "LayoutModel",
       "_view_count": null,
       "_view_module": "@jupyter-widgets/base",
       "_view_module_version": "2.0.0",
       "_view_name": "LayoutView",
       "align_content": null,
       "align_items": null,
       "align_self": null,
       "border_bottom": null,
       "border_left": null,
       "border_right": null,
       "border_top": null,
       "bottom": null,
       "display": null,
       "flex": null,
       "flex_flow": null,
       "grid_area": null,
       "grid_auto_columns": null,
       "grid_auto_flow": null,
       "grid_auto_rows": null,
       "grid_column": null,
       "grid_gap": null,
       "grid_row": null,
       "grid_template_areas": null,
       "grid_template_columns": null,
       "grid_template_rows": null,
       "height": null,
       "justify_content": null,
       "justify_items": null,
       "left": null,
       "margin": null,
       "max_height": null,
       "max_width": null,
       "min_height": null,
       "min_width": null,
       "object_fit": null,
       "object_position": null,
       "order": null,
       "overflow": null,
       "padding": null,
       "right": null,
       "top": null,
       "visibility": null,
       "width": null
      }
     },
     "58359f98c8fc47a6bd592b7e7b0dc520": {
      "model_module": "@jupyter-widgets/controls",
      "model_module_version": "2.0.0",
      "model_name": "FloatProgressModel",
      "state": {
       "_dom_classes": [],
       "_model_module": "@jupyter-widgets/controls",
       "_model_module_version": "2.0.0",
       "_model_name": "FloatProgressModel",
       "_view_count": null,
       "_view_module": "@jupyter-widgets/controls",
       "_view_module_version": "2.0.0",
       "_view_name": "ProgressView",
       "bar_style": "success",
       "description": "",
       "description_allow_html": false,
       "layout": "IPY_MODEL_b2921fff45d84d8c85124c137691ecd2",
       "max": 625.0,
       "min": 0.0,
       "orientation": "horizontal",
       "style": "IPY_MODEL_6f42ed9609364e189a106cc84a0450a4",
       "tabbable": null,
       "tooltip": null,
       "value": 625.0
      }
     },
     "5a598225139d4c2d95a36d2ec084dd84": {
      "model_module": "@jupyter-widgets/controls",
      "model_module_version": "2.0.0",
      "model_name": "ProgressStyleModel",
      "state": {
       "_model_module": "@jupyter-widgets/controls",
       "_model_module_version": "2.0.0",
       "_model_name": "ProgressStyleModel",
       "_view_count": null,
       "_view_module": "@jupyter-widgets/base",
       "_view_module_version": "2.0.0",
       "_view_name": "StyleView",
       "bar_color": null,
       "description_width": ""
      }
     },
     "5e0aa8d3a41d4cae8838798c5f8c4037": {
      "model_module": "@jupyter-widgets/controls",
      "model_module_version": "2.0.0",
      "model_name": "HTMLModel",
      "state": {
       "_dom_classes": [],
       "_model_module": "@jupyter-widgets/controls",
       "_model_module_version": "2.0.0",
       "_model_name": "HTMLModel",
       "_view_count": null,
       "_view_module": "@jupyter-widgets/controls",
       "_view_module_version": "2.0.0",
       "_view_name": "HTMLView",
       "description": "",
       "description_allow_html": false,
       "layout": "IPY_MODEL_07910f17636044ddbb1c6ff2cde66144",
       "placeholder": "​",
       "style": "IPY_MODEL_52ac5efed6fa4d7cbb1c7785bc5367f1",
       "tabbable": null,
       "tooltip": null,
       "value": "model.safetensors: 100%"
      }
     },
     "61121856621f49b2b2d83241fd98e12c": {
      "model_module": "@jupyter-widgets/controls",
      "model_module_version": "2.0.0",
      "model_name": "HBoxModel",
      "state": {
       "_dom_classes": [],
       "_model_module": "@jupyter-widgets/controls",
       "_model_module_version": "2.0.0",
       "_model_name": "HBoxModel",
       "_view_count": null,
       "_view_module": "@jupyter-widgets/controls",
       "_view_module_version": "2.0.0",
       "_view_name": "HBoxView",
       "box_style": "",
       "children": [
        "IPY_MODEL_43fa31ceec9b4577a21052e750e6a0d5",
        "IPY_MODEL_88ab2cf154af4157b86a673fd1942c14",
        "IPY_MODEL_e404ccdd1a0d4db6af91130e382cb70e"
       ],
       "layout": "IPY_MODEL_8c19c4ee067047e389bcd1ade9148e83",
       "tabbable": null,
       "tooltip": null
      }
     },
     "6a14df104f554cb5b26396a6706e606c": {
      "model_module": "@jupyter-widgets/base",
      "model_module_version": "2.0.0",
      "model_name": "LayoutModel",
      "state": {
       "_model_module": "@jupyter-widgets/base",
       "_model_module_version": "2.0.0",
       "_model_name": "LayoutModel",
       "_view_count": null,
       "_view_module": "@jupyter-widgets/base",
       "_view_module_version": "2.0.0",
       "_view_name": "LayoutView",
       "align_content": null,
       "align_items": null,
       "align_self": null,
       "border_bottom": null,
       "border_left": null,
       "border_right": null,
       "border_top": null,
       "bottom": null,
       "display": null,
       "flex": null,
       "flex_flow": null,
       "grid_area": null,
       "grid_auto_columns": null,
       "grid_auto_flow": null,
       "grid_auto_rows": null,
       "grid_column": null,
       "grid_gap": null,
       "grid_row": null,
       "grid_template_areas": null,
       "grid_template_columns": null,
       "grid_template_rows": null,
       "height": null,
       "justify_content": null,
       "justify_items": null,
       "left": null,
       "margin": null,
       "max_height": null,
       "max_width": null,
       "min_height": null,
       "min_width": null,
       "object_fit": null,
       "object_position": null,
       "order": null,
       "overflow": null,
       "padding": null,
       "right": null,
       "top": null,
       "visibility": null,
       "width": null
      }
     },
     "6d62318e61204ef1801a7c0407e781af": {
      "model_module": "@jupyter-widgets/controls",
      "model_module_version": "2.0.0",
      "model_name": "HTMLStyleModel",
      "state": {
       "_model_module": "@jupyter-widgets/controls",
       "_model_module_version": "2.0.0",
       "_model_name": "HTMLStyleModel",
       "_view_count": null,
       "_view_module": "@jupyter-widgets/base",
       "_view_module_version": "2.0.0",
       "_view_name": "StyleView",
       "background": null,
       "description_width": "",
       "font_size": null,
       "text_color": null
      }
     },
     "6e2a9261811c4d76883ec585af4cea0b": {
      "model_module": "@jupyter-widgets/base",
      "model_module_version": "2.0.0",
      "model_name": "LayoutModel",
      "state": {
       "_model_module": "@jupyter-widgets/base",
       "_model_module_version": "2.0.0",
       "_model_name": "LayoutModel",
       "_view_count": null,
       "_view_module": "@jupyter-widgets/base",
       "_view_module_version": "2.0.0",
       "_view_name": "LayoutView",
       "align_content": null,
       "align_items": null,
       "align_self": null,
       "border_bottom": null,
       "border_left": null,
       "border_right": null,
       "border_top": null,
       "bottom": null,
       "display": null,
       "flex": null,
       "flex_flow": null,
       "grid_area": null,
       "grid_auto_columns": null,
       "grid_auto_flow": null,
       "grid_auto_rows": null,
       "grid_column": null,
       "grid_gap": null,
       "grid_row": null,
       "grid_template_areas": null,
       "grid_template_columns": null,
       "grid_template_rows": null,
       "height": null,
       "justify_content": null,
       "justify_items": null,
       "left": null,
       "margin": null,
       "max_height": null,
       "max_width": null,
       "min_height": null,
       "min_width": null,
       "object_fit": null,
       "object_position": null,
       "order": null,
       "overflow": null,
       "padding": null,
       "right": null,
       "top": null,
       "visibility": null,
       "width": null
      }
     },
     "6f42ed9609364e189a106cc84a0450a4": {
      "model_module": "@jupyter-widgets/controls",
      "model_module_version": "2.0.0",
      "model_name": "ProgressStyleModel",
      "state": {
       "_model_module": "@jupyter-widgets/controls",
       "_model_module_version": "2.0.0",
       "_model_name": "ProgressStyleModel",
       "_view_count": null,
       "_view_module": "@jupyter-widgets/base",
       "_view_module_version": "2.0.0",
       "_view_name": "StyleView",
       "bar_color": null,
       "description_width": ""
      }
     },
     "72df54c17d18419583b55d0ea09a9b09": {
      "model_module": "@jupyter-widgets/base",
      "model_module_version": "2.0.0",
      "model_name": "LayoutModel",
      "state": {
       "_model_module": "@jupyter-widgets/base",
       "_model_module_version": "2.0.0",
       "_model_name": "LayoutModel",
       "_view_count": null,
       "_view_module": "@jupyter-widgets/base",
       "_view_module_version": "2.0.0",
       "_view_name": "LayoutView",
       "align_content": null,
       "align_items": null,
       "align_self": null,
       "border_bottom": null,
       "border_left": null,
       "border_right": null,
       "border_top": null,
       "bottom": null,
       "display": null,
       "flex": null,
       "flex_flow": null,
       "grid_area": null,
       "grid_auto_columns": null,
       "grid_auto_flow": null,
       "grid_auto_rows": null,
       "grid_column": null,
       "grid_gap": null,
       "grid_row": null,
       "grid_template_areas": null,
       "grid_template_columns": null,
       "grid_template_rows": null,
       "height": null,
       "justify_content": null,
       "justify_items": null,
       "left": null,
       "margin": null,
       "max_height": null,
       "max_width": null,
       "min_height": null,
       "min_width": null,
       "object_fit": null,
       "object_position": null,
       "order": null,
       "overflow": null,
       "padding": null,
       "right": null,
       "top": null,
       "visibility": null,
       "width": null
      }
     },
     "7499bdf43e0e46faa7029b49b979aea0": {
      "model_module": "@jupyter-widgets/controls",
      "model_module_version": "2.0.0",
      "model_name": "HTMLStyleModel",
      "state": {
       "_model_module": "@jupyter-widgets/controls",
       "_model_module_version": "2.0.0",
       "_model_name": "HTMLStyleModel",
       "_view_count": null,
       "_view_module": "@jupyter-widgets/base",
       "_view_module_version": "2.0.0",
       "_view_name": "StyleView",
       "background": null,
       "description_width": "",
       "font_size": null,
       "text_color": null
      }
     },
     "7533f0e06a8d4067a86a0d42ce94d9c8": {
      "model_module": "@jupyter-widgets/controls",
      "model_module_version": "2.0.0",
      "model_name": "HBoxModel",
      "state": {
       "_dom_classes": [],
       "_model_module": "@jupyter-widgets/controls",
       "_model_module_version": "2.0.0",
       "_model_name": "HBoxModel",
       "_view_count": null,
       "_view_module": "@jupyter-widgets/controls",
       "_view_module_version": "2.0.0",
       "_view_name": "HBoxView",
       "box_style": "",
       "children": [
        "IPY_MODEL_a85836366c794f17829f232f48d57f07",
        "IPY_MODEL_58359f98c8fc47a6bd592b7e7b0dc520",
        "IPY_MODEL_201c0e2b60a943f889006403ca86611a"
       ],
       "layout": "IPY_MODEL_d8b50bd8ad0040ecad060a928331e738",
       "tabbable": null,
       "tooltip": null
      }
     },
     "76d5234ab21249a0845954ae340e282e": {
      "model_module": "@jupyter-widgets/base",
      "model_module_version": "2.0.0",
      "model_name": "LayoutModel",
      "state": {
       "_model_module": "@jupyter-widgets/base",
       "_model_module_version": "2.0.0",
       "_model_name": "LayoutModel",
       "_view_count": null,
       "_view_module": "@jupyter-widgets/base",
       "_view_module_version": "2.0.0",
       "_view_name": "LayoutView",
       "align_content": null,
       "align_items": null,
       "align_self": null,
       "border_bottom": null,
       "border_left": null,
       "border_right": null,
       "border_top": null,
       "bottom": null,
       "display": null,
       "flex": null,
       "flex_flow": null,
       "grid_area": null,
       "grid_auto_columns": null,
       "grid_auto_flow": null,
       "grid_auto_rows": null,
       "grid_column": null,
       "grid_gap": null,
       "grid_row": null,
       "grid_template_areas": null,
       "grid_template_columns": null,
       "grid_template_rows": null,
       "height": null,
       "justify_content": null,
       "justify_items": null,
       "left": null,
       "margin": null,
       "max_height": null,
       "max_width": null,
       "min_height": null,
       "min_width": null,
       "object_fit": null,
       "object_position": null,
       "order": null,
       "overflow": null,
       "padding": null,
       "right": null,
       "top": null,
       "visibility": null,
       "width": null
      }
     },
     "88ab2cf154af4157b86a673fd1942c14": {
      "model_module": "@jupyter-widgets/controls",
      "model_module_version": "2.0.0",
      "model_name": "FloatProgressModel",
      "state": {
       "_dom_classes": [],
       "_model_module": "@jupyter-widgets/controls",
       "_model_module_version": "2.0.0",
       "_model_name": "FloatProgressModel",
       "_view_count": null,
       "_view_module": "@jupyter-widgets/controls",
       "_view_module_version": "2.0.0",
       "_view_name": "ProgressView",
       "bar_style": "success",
       "description": "",
       "description_allow_html": false,
       "layout": "IPY_MODEL_56ae07a1fcd44a6a9bf3967e87761104",
       "max": 995526.0,
       "min": 0.0,
       "orientation": "horizontal",
       "style": "IPY_MODEL_1899951029f440e6a115359a30df4070",
       "tabbable": null,
       "tooltip": null,
       "value": 995526.0
      }
     },
     "8c19c4ee067047e389bcd1ade9148e83": {
      "model_module": "@jupyter-widgets/base",
      "model_module_version": "2.0.0",
      "model_name": "LayoutModel",
      "state": {
       "_model_module": "@jupyter-widgets/base",
       "_model_module_version": "2.0.0",
       "_model_name": "LayoutModel",
       "_view_count": null,
       "_view_module": "@jupyter-widgets/base",
       "_view_module_version": "2.0.0",
       "_view_name": "LayoutView",
       "align_content": null,
       "align_items": null,
       "align_self": null,
       "border_bottom": null,
       "border_left": null,
       "border_right": null,
       "border_top": null,
       "bottom": null,
       "display": null,
       "flex": null,
       "flex_flow": null,
       "grid_area": null,
       "grid_auto_columns": null,
       "grid_auto_flow": null,
       "grid_auto_rows": null,
       "grid_column": null,
       "grid_gap": null,
       "grid_row": null,
       "grid_template_areas": null,
       "grid_template_columns": null,
       "grid_template_rows": null,
       "height": null,
       "justify_content": null,
       "justify_items": null,
       "left": null,
       "margin": null,
       "max_height": null,
       "max_width": null,
       "min_height": null,
       "min_width": null,
       "object_fit": null,
       "object_position": null,
       "order": null,
       "overflow": null,
       "padding": null,
       "right": null,
       "top": null,
       "visibility": null,
       "width": null
      }
     },
     "9156f2f0fe6747e7ab0d4602001dcc13": {
      "model_module": "@jupyter-widgets/controls",
      "model_module_version": "2.0.0",
      "model_name": "HBoxModel",
      "state": {
       "_dom_classes": [],
       "_model_module": "@jupyter-widgets/controls",
       "_model_module_version": "2.0.0",
       "_model_name": "HBoxModel",
       "_view_count": null,
       "_view_module": "@jupyter-widgets/controls",
       "_view_module_version": "2.0.0",
       "_view_name": "HBoxView",
       "box_style": "",
       "children": [
        "IPY_MODEL_5e0aa8d3a41d4cae8838798c5f8c4037",
        "IPY_MODEL_bae1e79a14a64214a84f574612d9d6d2",
        "IPY_MODEL_f2e03d7e68ba4b5684dbadf15faec823"
       ],
       "layout": "IPY_MODEL_93438146f2b44af59b5d1b725d832003",
       "tabbable": null,
       "tooltip": null
      }
     },
     "93438146f2b44af59b5d1b725d832003": {
      "model_module": "@jupyter-widgets/base",
      "model_module_version": "2.0.0",
      "model_name": "LayoutModel",
      "state": {
       "_model_module": "@jupyter-widgets/base",
       "_model_module_version": "2.0.0",
       "_model_name": "LayoutModel",
       "_view_count": null,
       "_view_module": "@jupyter-widgets/base",
       "_view_module_version": "2.0.0",
       "_view_name": "LayoutView",
       "align_content": null,
       "align_items": null,
       "align_self": null,
       "border_bottom": null,
       "border_left": null,
       "border_right": null,
       "border_top": null,
       "bottom": null,
       "display": null,
       "flex": null,
       "flex_flow": null,
       "grid_area": null,
       "grid_auto_columns": null,
       "grid_auto_flow": null,
       "grid_auto_rows": null,
       "grid_column": null,
       "grid_gap": null,
       "grid_row": null,
       "grid_template_areas": null,
       "grid_template_columns": null,
       "grid_template_rows": null,
       "height": null,
       "justify_content": null,
       "justify_items": null,
       "left": null,
       "margin": null,
       "max_height": null,
       "max_width": null,
       "min_height": null,
       "min_width": null,
       "object_fit": null,
       "object_position": null,
       "order": null,
       "overflow": null,
       "padding": null,
       "right": null,
       "top": null,
       "visibility": null,
       "width": null
      }
     },
     "96cfaa6a265a499d8202feb9e6a5ad1f": {
      "model_module": "@jupyter-widgets/controls",
      "model_module_version": "2.0.0",
      "model_name": "HTMLStyleModel",
      "state": {
       "_model_module": "@jupyter-widgets/controls",
       "_model_module_version": "2.0.0",
       "_model_name": "HTMLStyleModel",
       "_view_count": null,
       "_view_module": "@jupyter-widgets/base",
       "_view_module_version": "2.0.0",
       "_view_name": "StyleView",
       "background": null,
       "description_width": "",
       "font_size": null,
       "text_color": null
      }
     },
     "971e38837fd14309a03593bfdfd90f0d": {
      "model_module": "@jupyter-widgets/base",
      "model_module_version": "2.0.0",
      "model_name": "LayoutModel",
      "state": {
       "_model_module": "@jupyter-widgets/base",
       "_model_module_version": "2.0.0",
       "_model_name": "LayoutModel",
       "_view_count": null,
       "_view_module": "@jupyter-widgets/base",
       "_view_module_version": "2.0.0",
       "_view_name": "LayoutView",
       "align_content": null,
       "align_items": null,
       "align_self": null,
       "border_bottom": null,
       "border_left": null,
       "border_right": null,
       "border_top": null,
       "bottom": null,
       "display": null,
       "flex": null,
       "flex_flow": null,
       "grid_area": null,
       "grid_auto_columns": null,
       "grid_auto_flow": null,
       "grid_auto_rows": null,
       "grid_column": null,
       "grid_gap": null,
       "grid_row": null,
       "grid_template_areas": null,
       "grid_template_columns": null,
       "grid_template_rows": null,
       "height": null,
       "justify_content": null,
       "justify_items": null,
       "left": null,
       "margin": null,
       "max_height": null,
       "max_width": null,
       "min_height": null,
       "min_width": null,
       "object_fit": null,
       "object_position": null,
       "order": null,
       "overflow": null,
       "padding": null,
       "right": null,
       "top": null,
       "visibility": null,
       "width": null
      }
     },
     "9c62cafc1bbd4ab6a2a13e9462e1d98b": {
      "model_module": "@jupyter-widgets/controls",
      "model_module_version": "2.0.0",
      "model_name": "HTMLStyleModel",
      "state": {
       "_model_module": "@jupyter-widgets/controls",
       "_model_module_version": "2.0.0",
       "_model_name": "HTMLStyleModel",
       "_view_count": null,
       "_view_module": "@jupyter-widgets/base",
       "_view_module_version": "2.0.0",
       "_view_name": "StyleView",
       "background": null,
       "description_width": "",
       "font_size": null,
       "text_color": null
      }
     },
     "a2b67a6bbea04180988b1c9b827f044b": {
      "model_module": "@jupyter-widgets/controls",
      "model_module_version": "2.0.0",
      "model_name": "ProgressStyleModel",
      "state": {
       "_model_module": "@jupyter-widgets/controls",
       "_model_module_version": "2.0.0",
       "_model_name": "ProgressStyleModel",
       "_view_count": null,
       "_view_module": "@jupyter-widgets/base",
       "_view_module_version": "2.0.0",
       "_view_name": "StyleView",
       "bar_color": null,
       "description_width": ""
      }
     },
     "a85836366c794f17829f232f48d57f07": {
      "model_module": "@jupyter-widgets/controls",
      "model_module_version": "2.0.0",
      "model_name": "HTMLModel",
      "state": {
       "_dom_classes": [],
       "_model_module": "@jupyter-widgets/controls",
       "_model_module_version": "2.0.0",
       "_model_name": "HTMLModel",
       "_view_count": null,
       "_view_module": "@jupyter-widgets/controls",
       "_view_module_version": "2.0.0",
       "_view_name": "HTMLView",
       "description": "",
       "description_allow_html": false,
       "layout": "IPY_MODEL_6a14df104f554cb5b26396a6706e606c",
       "placeholder": "​",
       "style": "IPY_MODEL_7499bdf43e0e46faa7029b49b979aea0",
       "tabbable": null,
       "tooltip": null,
       "value": "config.json: 100%"
      }
     },
     "ab7e7308a188420aa31f906143363835": {
      "model_module": "@jupyter-widgets/base",
      "model_module_version": "2.0.0",
      "model_name": "LayoutModel",
      "state": {
       "_model_module": "@jupyter-widgets/base",
       "_model_module_version": "2.0.0",
       "_model_name": "LayoutModel",
       "_view_count": null,
       "_view_module": "@jupyter-widgets/base",
       "_view_module_version": "2.0.0",
       "_view_name": "LayoutView",
       "align_content": null,
       "align_items": null,
       "align_self": null,
       "border_bottom": null,
       "border_left": null,
       "border_right": null,
       "border_top": null,
       "bottom": null,
       "display": null,
       "flex": null,
       "flex_flow": null,
       "grid_area": null,
       "grid_auto_columns": null,
       "grid_auto_flow": null,
       "grid_auto_rows": null,
       "grid_column": null,
       "grid_gap": null,
       "grid_row": null,
       "grid_template_areas": null,
       "grid_template_columns": null,
       "grid_template_rows": null,
       "height": null,
       "justify_content": null,
       "justify_items": null,
       "left": null,
       "margin": null,
       "max_height": null,
       "max_width": null,
       "min_height": null,
       "min_width": null,
       "object_fit": null,
       "object_position": null,
       "order": null,
       "overflow": null,
       "padding": null,
       "right": null,
       "top": null,
       "visibility": null,
       "width": null
      }
     },
     "ae1af432e2df4c37a2b79e62804cb335": {
      "model_module": "@jupyter-widgets/controls",
      "model_module_version": "2.0.0",
      "model_name": "HTMLStyleModel",
      "state": {
       "_model_module": "@jupyter-widgets/controls",
       "_model_module_version": "2.0.0",
       "_model_name": "HTMLStyleModel",
       "_view_count": null,
       "_view_module": "@jupyter-widgets/base",
       "_view_module_version": "2.0.0",
       "_view_name": "StyleView",
       "background": null,
       "description_width": "",
       "font_size": null,
       "text_color": null
      }
     },
     "b11b2bb4c2194ebc8505726ce1166c70": {
      "model_module": "@jupyter-widgets/controls",
      "model_module_version": "2.0.0",
      "model_name": "FloatProgressModel",
      "state": {
       "_dom_classes": [],
       "_model_module": "@jupyter-widgets/controls",
       "_model_module_version": "2.0.0",
       "_model_name": "FloatProgressModel",
       "_view_count": null,
       "_view_module": "@jupyter-widgets/controls",
       "_view_module_version": "2.0.0",
       "_view_name": "ProgressView",
       "bar_style": "success",
       "description": "",
       "description_allow_html": false,
       "layout": "IPY_MODEL_6e2a9261811c4d76883ec585af4cea0b",
       "max": 1961828.0,
       "min": 0.0,
       "orientation": "horizontal",
       "style": "IPY_MODEL_5a598225139d4c2d95a36d2ec084dd84",
       "tabbable": null,
       "tooltip": null,
       "value": 1961828.0
      }
     },
     "b2921fff45d84d8c85124c137691ecd2": {
      "model_module": "@jupyter-widgets/base",
      "model_module_version": "2.0.0",
      "model_name": "LayoutModel",
      "state": {
       "_model_module": "@jupyter-widgets/base",
       "_model_module_version": "2.0.0",
       "_model_name": "LayoutModel",
       "_view_count": null,
       "_view_module": "@jupyter-widgets/base",
       "_view_module_version": "2.0.0",
       "_view_name": "LayoutView",
       "align_content": null,
       "align_items": null,
       "align_self": null,
       "border_bottom": null,
       "border_left": null,
       "border_right": null,
       "border_top": null,
       "bottom": null,
       "display": null,
       "flex": null,
       "flex_flow": null,
       "grid_area": null,
       "grid_auto_columns": null,
       "grid_auto_flow": null,
       "grid_auto_rows": null,
       "grid_column": null,
       "grid_gap": null,
       "grid_row": null,
       "grid_template_areas": null,
       "grid_template_columns": null,
       "grid_template_rows": null,
       "height": null,
       "justify_content": null,
       "justify_items": null,
       "left": null,
       "margin": null,
       "max_height": null,
       "max_width": null,
       "min_height": null,
       "min_width": null,
       "object_fit": null,
       "object_position": null,
       "order": null,
       "overflow": null,
       "padding": null,
       "right": null,
       "top": null,
       "visibility": null,
       "width": null
      }
     },
     "bae1e79a14a64214a84f574612d9d6d2": {
      "model_module": "@jupyter-widgets/controls",
      "model_module_version": "2.0.0",
      "model_name": "FloatProgressModel",
      "state": {
       "_dom_classes": [],
       "_model_module": "@jupyter-widgets/controls",
       "_model_module_version": "2.0.0",
       "_model_name": "FloatProgressModel",
       "_view_count": null,
       "_view_module": "@jupyter-widgets/controls",
       "_view_module_version": "2.0.0",
       "_view_name": "ProgressView",
       "bar_style": "success",
       "description": "",
       "description_allow_html": false,
       "layout": "IPY_MODEL_06e87bcdc3434dba92b9dc2eb18f3160",
       "max": 714290682.0,
       "min": 0.0,
       "orientation": "horizontal",
       "style": "IPY_MODEL_24968c9ce989434ca2454127a87f7dd6",
       "tabbable": null,
       "tooltip": null,
       "value": 714290682.0
      }
     },
     "be2d44fe74a94d9da898ae66158926f6": {
      "model_module": "@jupyter-widgets/controls",
      "model_module_version": "2.0.0",
      "model_name": "FloatProgressModel",
      "state": {
       "_dom_classes": [],
       "_model_module": "@jupyter-widgets/controls",
       "_model_module_version": "2.0.0",
       "_model_name": "FloatProgressModel",
       "_view_count": null,
       "_view_module": "@jupyter-widgets/controls",
       "_view_module_version": "2.0.0",
       "_view_name": "ProgressView",
       "bar_style": "success",
       "description": "",
       "description_allow_html": false,
       "layout": "IPY_MODEL_ab7e7308a188420aa31f906143363835",
       "max": 49.0,
       "min": 0.0,
       "orientation": "horizontal",
       "style": "IPY_MODEL_a2b67a6bbea04180988b1c9b827f044b",
       "tabbable": null,
       "tooltip": null,
       "value": 49.0
      }
     },
     "c38cd34013b243ef8f211d0e2fea5ce5": {
      "model_module": "@jupyter-widgets/controls",
      "model_module_version": "2.0.0",
      "model_name": "HTMLModel",
      "state": {
       "_dom_classes": [],
       "_model_module": "@jupyter-widgets/controls",
       "_model_module_version": "2.0.0",
       "_model_name": "HTMLModel",
       "_view_count": null,
       "_view_module": "@jupyter-widgets/controls",
       "_view_module_version": "2.0.0",
       "_view_name": "HTMLView",
       "description": "",
       "description_allow_html": false,
       "layout": "IPY_MODEL_971e38837fd14309a03593bfdfd90f0d",
       "placeholder": "​",
       "style": "IPY_MODEL_9c62cafc1bbd4ab6a2a13e9462e1d98b",
       "tabbable": null,
       "tooltip": null,
       "value": " 49.0/49.0 [00:00&lt;00:00, 6.06kB/s]"
      }
     },
     "cdf6b37a9d254a85b7427cc3e1737978": {
      "model_module": "@jupyter-widgets/controls",
      "model_module_version": "2.0.0",
      "model_name": "HTMLModel",
      "state": {
       "_dom_classes": [],
       "_model_module": "@jupyter-widgets/controls",
       "_model_module_version": "2.0.0",
       "_model_name": "HTMLModel",
       "_view_count": null,
       "_view_module": "@jupyter-widgets/controls",
       "_view_module_version": "2.0.0",
       "_view_name": "HTMLView",
       "description": "",
       "description_allow_html": false,
       "layout": "IPY_MODEL_76d5234ab21249a0845954ae340e282e",
       "placeholder": "​",
       "style": "IPY_MODEL_96cfaa6a265a499d8202feb9e6a5ad1f",
       "tabbable": null,
       "tooltip": null,
       "value": "tokenizer.json: 100%"
      }
     },
     "ceae7b84765849d99aedbf721008bc03": {
      "model_module": "@jupyter-widgets/controls",
      "model_module_version": "2.0.0",
      "model_name": "HBoxModel",
      "state": {
       "_dom_classes": [],
       "_model_module": "@jupyter-widgets/controls",
       "_model_module_version": "2.0.0",
       "_model_name": "HBoxModel",
       "_view_count": null,
       "_view_module": "@jupyter-widgets/controls",
       "_view_module_version": "2.0.0",
       "_view_name": "HBoxView",
       "box_style": "",
       "children": [
        "IPY_MODEL_e1df28ecfe1842f08710efd9536bcf04",
        "IPY_MODEL_be2d44fe74a94d9da898ae66158926f6",
        "IPY_MODEL_c38cd34013b243ef8f211d0e2fea5ce5"
       ],
       "layout": "IPY_MODEL_15631b9019284c1680b823ff4af2fa82",
       "tabbable": null,
       "tooltip": null
      }
     },
     "d244de44d8964e7ca704902882d3106b": {
      "model_module": "@jupyter-widgets/controls",
      "model_module_version": "2.0.0",
      "model_name": "HTMLStyleModel",
      "state": {
       "_model_module": "@jupyter-widgets/controls",
       "_model_module_version": "2.0.0",
       "_model_name": "HTMLStyleModel",
       "_view_count": null,
       "_view_module": "@jupyter-widgets/base",
       "_view_module_version": "2.0.0",
       "_view_name": "StyleView",
       "background": null,
       "description_width": "",
       "font_size": null,
       "text_color": null
      }
     },
     "d8b50bd8ad0040ecad060a928331e738": {
      "model_module": "@jupyter-widgets/base",
      "model_module_version": "2.0.0",
      "model_name": "LayoutModel",
      "state": {
       "_model_module": "@jupyter-widgets/base",
       "_model_module_version": "2.0.0",
       "_model_name": "LayoutModel",
       "_view_count": null,
       "_view_module": "@jupyter-widgets/base",
       "_view_module_version": "2.0.0",
       "_view_name": "LayoutView",
       "align_content": null,
       "align_items": null,
       "align_self": null,
       "border_bottom": null,
       "border_left": null,
       "border_right": null,
       "border_top": null,
       "bottom": null,
       "display": null,
       "flex": null,
       "flex_flow": null,
       "grid_area": null,
       "grid_auto_columns": null,
       "grid_auto_flow": null,
       "grid_auto_rows": null,
       "grid_column": null,
       "grid_gap": null,
       "grid_row": null,
       "grid_template_areas": null,
       "grid_template_columns": null,
       "grid_template_rows": null,
       "height": null,
       "justify_content": null,
       "justify_items": null,
       "left": null,
       "margin": null,
       "max_height": null,
       "max_width": null,
       "min_height": null,
       "min_width": null,
       "object_fit": null,
       "object_position": null,
       "order": null,
       "overflow": null,
       "padding": null,
       "right": null,
       "top": null,
       "visibility": null,
       "width": null
      }
     },
     "dbce90ce479242748b9f75b40ffe6ef5": {
      "model_module": "@jupyter-widgets/controls",
      "model_module_version": "2.0.0",
      "model_name": "HTMLStyleModel",
      "state": {
       "_model_module": "@jupyter-widgets/controls",
       "_model_module_version": "2.0.0",
       "_model_name": "HTMLStyleModel",
       "_view_count": null,
       "_view_module": "@jupyter-widgets/base",
       "_view_module_version": "2.0.0",
       "_view_name": "StyleView",
       "background": null,
       "description_width": "",
       "font_size": null,
       "text_color": null
      }
     },
     "de5132f41adf453ba2c3931069c44540": {
      "model_module": "@jupyter-widgets/controls",
      "model_module_version": "2.0.0",
      "model_name": "HTMLStyleModel",
      "state": {
       "_model_module": "@jupyter-widgets/controls",
       "_model_module_version": "2.0.0",
       "_model_name": "HTMLStyleModel",
       "_view_count": null,
       "_view_module": "@jupyter-widgets/base",
       "_view_module_version": "2.0.0",
       "_view_name": "StyleView",
       "background": null,
       "description_width": "",
       "font_size": null,
       "text_color": null
      }
     },
     "e1df28ecfe1842f08710efd9536bcf04": {
      "model_module": "@jupyter-widgets/controls",
      "model_module_version": "2.0.0",
      "model_name": "HTMLModel",
      "state": {
       "_dom_classes": [],
       "_model_module": "@jupyter-widgets/controls",
       "_model_module_version": "2.0.0",
       "_model_name": "HTMLModel",
       "_view_count": null,
       "_view_module": "@jupyter-widgets/controls",
       "_view_module_version": "2.0.0",
       "_view_name": "HTMLView",
       "description": "",
       "description_allow_html": false,
       "layout": "IPY_MODEL_55a7ac34aa194a0cb67030b3f062db9b",
       "placeholder": "​",
       "style": "IPY_MODEL_dbce90ce479242748b9f75b40ffe6ef5",
       "tabbable": null,
       "tooltip": null,
       "value": "tokenizer_config.json: 100%"
      }
     },
     "e404ccdd1a0d4db6af91130e382cb70e": {
      "model_module": "@jupyter-widgets/controls",
      "model_module_version": "2.0.0",
      "model_name": "HTMLModel",
      "state": {
       "_dom_classes": [],
       "_model_module": "@jupyter-widgets/controls",
       "_model_module_version": "2.0.0",
       "_model_name": "HTMLModel",
       "_view_count": null,
       "_view_module": "@jupyter-widgets/controls",
       "_view_module_version": "2.0.0",
       "_view_name": "HTMLView",
       "description": "",
       "description_allow_html": false,
       "layout": "IPY_MODEL_23c406451e02489684d8e46dcaafd712",
       "placeholder": "​",
       "style": "IPY_MODEL_de5132f41adf453ba2c3931069c44540",
       "tabbable": null,
       "tooltip": null,
       "value": " 996k/996k [00:00&lt;00:00, 14.3MB/s]"
      }
     },
     "f0f04492461d45daae027b44526898ed": {
      "model_module": "@jupyter-widgets/base",
      "model_module_version": "2.0.0",
      "model_name": "LayoutModel",
      "state": {
       "_model_module": "@jupyter-widgets/base",
       "_model_module_version": "2.0.0",
       "_model_name": "LayoutModel",
       "_view_count": null,
       "_view_module": "@jupyter-widgets/base",
       "_view_module_version": "2.0.0",
       "_view_name": "LayoutView",
       "align_content": null,
       "align_items": null,
       "align_self": null,
       "border_bottom": null,
       "border_left": null,
       "border_right": null,
       "border_top": null,
       "bottom": null,
       "display": null,
       "flex": null,
       "flex_flow": null,
       "grid_area": null,
       "grid_auto_columns": null,
       "grid_auto_flow": null,
       "grid_auto_rows": null,
       "grid_column": null,
       "grid_gap": null,
       "grid_row": null,
       "grid_template_areas": null,
       "grid_template_columns": null,
       "grid_template_rows": null,
       "height": null,
       "justify_content": null,
       "justify_items": null,
       "left": null,
       "margin": null,
       "max_height": null,
       "max_width": null,
       "min_height": null,
       "min_width": null,
       "object_fit": null,
       "object_position": null,
       "order": null,
       "overflow": null,
       "padding": null,
       "right": null,
       "top": null,
       "visibility": null,
       "width": null
      }
     },
     "f2e03d7e68ba4b5684dbadf15faec823": {
      "model_module": "@jupyter-widgets/controls",
      "model_module_version": "2.0.0",
      "model_name": "HTMLModel",
      "state": {
       "_dom_classes": [],
       "_model_module": "@jupyter-widgets/controls",
       "_model_module_version": "2.0.0",
       "_model_name": "HTMLModel",
       "_view_count": null,
       "_view_module": "@jupyter-widgets/controls",
       "_view_module_version": "2.0.0",
       "_view_name": "HTMLView",
       "description": "",
       "description_allow_html": false,
       "layout": "IPY_MODEL_72df54c17d18419583b55d0ea09a9b09",
       "placeholder": "​",
       "style": "IPY_MODEL_336c48045e9b43f0ae69379dde3ec2a1",
       "tabbable": null,
       "tooltip": null,
       "value": " 714M/714M [00:02&lt;00:00, 447MB/s]"
      }
     }
    },
    "version_major": 2,
    "version_minor": 0
   }
  }
 },
 "nbformat": 4,
 "nbformat_minor": 5
}
